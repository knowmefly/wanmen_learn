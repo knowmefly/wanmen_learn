{
 "cells": [
  {
   "cell_type": "code",
   "execution_count": 2,
   "metadata": {},
   "outputs": [],
   "source": [
    "import numpy as np\n",
    "import tensorflow as tf\n",
    "from tensorflow.examples.tutorials.mnist import input_data\n",
    "import time"
   ]
  },
  {
   "cell_type": "code",
   "execution_count": 4,
   "metadata": {},
   "outputs": [],
   "source": [
    "from IPython.display import Image\n",
    "#image(\"../pic\")"
   ]
  },
  {
   "cell_type": "code",
   "execution_count": 5,
   "metadata": {},
   "outputs": [],
   "source": [
    "learning_rate=0.01 #下降速率\n",
    "batch_size=128   #喂入大小\n",
    "n_epochs=30   #训练次数"
   ]
  },
  {
   "cell_type": "code",
   "execution_count": 7,
   "metadata": {},
   "outputs": [
    {
     "name": "stdout",
     "output_type": "stream",
     "text": [
      "Extracting ../MNIST-data\\train-images-idx3-ubyte.gz\n",
      "Extracting ../MNIST-data\\train-labels-idx1-ubyte.gz\n",
      "Extracting ../MNIST-data\\t10k-images-idx3-ubyte.gz\n",
      "Extracting ../MNIST-data\\t10k-labels-idx1-ubyte.gz\n"
     ]
    }
   ],
   "source": [
    "mnist = input_data.read_data_sets('../MNIST-data', one_hot=True)"
   ]
  },
  {
   "cell_type": "code",
   "execution_count": 8,
   "metadata": {},
   "outputs": [],
   "source": [
    "# Step 2: 建立两个 placeholder x,y\n",
    "# shape 分别为 [batch_size，784] [batch_size, 10]\n",
    "# 28*28=784\n",
    "# 10 个类别 （0～9）\n",
    "# OHE"
   ]
  },
  {
   "cell_type": "code",
   "execution_count": 9,
   "metadata": {},
   "outputs": [],
   "source": [
    "X = tf.placeholder(tf.float32, [batch_size, 784], name='X_pla')\n",
    "Y = tf.placeholder(tf.int32, [batch_size,10], name='Y_pla')\n"
   ]
  },
  {
   "cell_type": "code",
   "execution_count": 10,
   "metadata": {},
   "outputs": [],
   "source": [
    "# Step 3: 用 variable 来表示 w 和 b\n",
    "# w 的 shape? [784, 10]  (用于和[batch_size，784] 相乘 得到[batch_size，10])\n",
    "# b 的 shape? [1, 10] "
   ]
  },
  {
   "cell_type": "code",
   "execution_count": 11,
   "metadata": {},
   "outputs": [],
   "source": [
    "w = tf.Variable(tf.random_normal(shape=[784, 10], stddev=0.01), name='weight')\n",
    "b = tf.Variable(tf.zeros([1,10]), name=\"bias\")"
   ]
  },
  {
   "cell_type": "code",
   "execution_count": 12,
   "metadata": {},
   "outputs": [],
   "source": [
    "#step4 定义线性层"
   ]
  },
  {
   "cell_type": "code",
   "execution_count": 14,
   "metadata": {},
   "outputs": [],
   "source": [
    "logits = tf.matmul(X,w) + b"
   ]
  },
  {
   "cell_type": "code",
   "execution_count": 15,
   "metadata": {},
   "outputs": [],
   "source": [
    "# 求softmax\n",
    "#y = tf.nn.softmax(tf.matmul(x, W) + b)"
   ]
  },
  {
   "cell_type": "code",
   "execution_count": 17,
   "metadata": {},
   "outputs": [],
   "source": [
    "#Step 5: 定义 loss function using cross entropy sum( -y_true * log (y_pred))\n",
    "# cross_entropy = tf.reduce_mean(-tf.reduce_sum(y_ * tf.log(y), reduction_indices=[1]))\n",
    "# 这里 tf.reduce_sum 沿着 1 的方向加和所有的y 然后 tf.reduce_mean 求出每一个 batch 的平均值"
   ]
  },
  {
   "cell_type": "code",
   "execution_count": 22,
   "metadata": {},
   "outputs": [],
   "source": [
    "entropy = tf.nn.softmax_cross_entropy_with_logits_v2(logits=logits, labels=Y, name='loss')\n",
    "loss = tf.reduce_mean(entropy)"
   ]
  },
  {
   "cell_type": "code",
   "execution_count": 20,
   "metadata": {},
   "outputs": [],
   "source": [
    "# Step 6: 定义训练 loss function 的方法\n",
    "# 这里使用的是 GradientDescentOptimizer\n",
    "# 更多 optimazer https://www.tensorflow.org/api_guides/python/train#optimizers"
   ]
  },
  {
   "cell_type": "code",
   "execution_count": 23,
   "metadata": {},
   "outputs": [],
   "source": [
    "optimizer = tf.train.GradientDescentOptimizer(learning_rate).minimize(loss)"
   ]
  },
  {
   "cell_type": "code",
   "execution_count": 24,
   "metadata": {},
   "outputs": [],
   "source": [
    "with tf.name_scope('summaries'):   \n",
    "        tf.summary.scalar ('loss',loss)\n",
    "        merged_summaries = tf.summary.merge_all()"
   ]
  },
  {
   "cell_type": "markdown",
   "metadata": {},
   "source": [
    "#### Start Session"
   ]
  },
  {
   "cell_type": "code",
   "execution_count": 26,
   "metadata": {},
   "outputs": [
    {
     "name": "stdout",
     "output_type": "stream",
     "text": [
      "Average loss for epoch 0: 1.2888854019569629\n",
      "Average loss for epoch 1: 0.7334363495275413\n",
      "Average loss for epoch 2: 0.6007311311496165\n",
      "Average loss for epoch 3: 0.5369959409003491\n",
      "Average loss for epoch 4: 0.4976940613526564\n",
      "Average loss for epoch 5: 0.4716678033897649\n",
      "Average loss for epoch 6: 0.4513597833665657\n",
      "Average loss for epoch 7: 0.43584281039404704\n",
      "Average loss for epoch 8: 0.4233528952220659\n",
      "Average loss for epoch 9: 0.41339882610839007\n",
      "Average loss for epoch 10: 0.403965795095706\n",
      "Average loss for epoch 11: 0.39798305685564633\n",
      "Average loss for epoch 12: 0.3902096654568519\n",
      "Average loss for epoch 13: 0.3841777704742961\n",
      "Average loss for epoch 14: 0.3805262025419649\n",
      "Average loss for epoch 15: 0.3741736772941265\n",
      "Average loss for epoch 16: 0.3706101924528331\n",
      "Average loss for epoch 17: 0.3665374736269037\n",
      "Average loss for epoch 18: 0.3624646472277897\n",
      "Average loss for epoch 19: 0.3595978958414985\n",
      "Average loss for epoch 20: 0.35599639150368306\n",
      "Average loss for epoch 21: 0.3540802918252967\n",
      "Average loss for epoch 22: 0.3525864905341244\n",
      "Average loss for epoch 23: 0.34843153279005507\n",
      "Average loss for epoch 24: 0.34686926059372775\n",
      "Average loss for epoch 25: 0.3451648649774787\n",
      "Average loss for epoch 26: 0.3406024047266909\n",
      "Average loss for epoch 27: 0.3408213558244261\n",
      "Average loss for epoch 28: 0.33909554498178973\n",
      "Average loss for epoch 29: 0.336455323896208\n",
      "Total running time: 16.6435546875 seconds\n",
      "Amazing We Made it!\n",
      "Accuracy on the testing sets is0.9112\n"
     ]
    }
   ],
   "source": [
    "with tf.Session() as sess:\n",
    "    # to visualize using TensorBoard\n",
    "    writer = tf.summary.FileWriter('../logistic_reg', sess.graph)\n",
    "    start_time = time.time()\n",
    "    sess.run(tf.global_variables_initializer())\t\n",
    "    n_batches = int(mnist.train.num_examples/batch_size)\n",
    "    \n",
    "    for i in range(n_epochs): # train the model n_epochs times\n",
    "        total_loss = 0\n",
    "\n",
    "        for _ in range(n_batches):\n",
    "            \n",
    "            X_batch, Y_batch = mnist.train.next_batch(batch_size)\n",
    "            _, loss_batch = sess.run([optimizer, loss], feed_dict={X: X_batch, Y:Y_batch}) \n",
    "            total_loss += loss_batch\n",
    "            \n",
    "        print('Average loss for epoch {0}: {1}'.format(i, total_loss/n_batches))\n",
    "\n",
    "    print('Total running time: {0} seconds'.format(time.time() - start_time))\n",
    "\n",
    "    print('Amazing We Made it!') # should be around 0.35 after 25 epochs\n",
    "\n",
    "# test the model\n",
    "    preds = tf.nn.softmax(logits)\n",
    "    correct_preds = tf.equal(tf.argmax(preds, 1), tf.argmax(Y, 1))\n",
    "    count_of_right_predictions = tf.reduce_sum(tf.cast(correct_preds, tf.float32)) \n",
    "    \n",
    "    n_batches = int(mnist.test.num_examples/batch_size)\n",
    "    total_correct_preds = 0\n",
    "\n",
    "    for i in range(n_batches):\n",
    "        X_batch, Y_batch = mnist.test.next_batch(batch_size)\n",
    "        count_of_right_predictions_per_batch = sess.run(count_of_right_predictions, feed_dict={X: X_batch, Y:Y_batch})\n",
    "        total_correct_preds += count_of_right_predictions_per_batch\n",
    "        \n",
    "    print('Accuracy on the testing sets is{0}'.format(total_correct_preds/mnist.test.num_examples))\n",
    "\n",
    "    writer.close()\n"
   ]
  },
  {
   "cell_type": "code",
   "execution_count": null,
   "metadata": {},
   "outputs": [],
   "source": []
  }
 ],
 "metadata": {
  "kernelspec": {
   "display_name": "tensorflow",
   "language": "python",
   "name": "tensorflow"
  },
  "language_info": {
   "codemirror_mode": {
    "name": "ipython",
    "version": 3
   },
   "file_extension": ".py",
   "mimetype": "text/x-python",
   "name": "python",
   "nbconvert_exporter": "python",
   "pygments_lexer": "ipython3",
   "version": "3.5.6"
  }
 },
 "nbformat": 4,
 "nbformat_minor": 2
}
