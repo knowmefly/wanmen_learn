{
 "cells": [
  {
   "cell_type": "markdown",
   "metadata": {},
   "source": [
    "# 1. 练手项目"
   ]
  },
  {
   "cell_type": "code",
   "execution_count": 1,
   "metadata": {},
   "outputs": [
    {
     "name": "stderr",
     "output_type": "stream",
     "text": [
      "Using TensorFlow backend.\n"
     ]
    }
   ],
   "source": [
    "import cv2\n",
    "import os\n",
    "import random\n",
    "import pandas as pd\n",
    "import numpy as np\n",
    "\n",
    "import matplotlib.pyplot as plt\n",
    "import seaborn as sns\n",
    "\n",
    "from keras.models import Sequential, Model\n",
    "from keras.layers import Dense, Dropout, Activation, Flatten, Input\n",
    "from keras.layers.convolutional import Conv2D, MaxPooling2D\n",
    "from keras.optimizers import SGD\n",
    "from keras.applications.vgg16 import preprocess_input\n",
    "from keras.optimizers import RMSprop, Adam\n",
    "from keras.applications.vgg16 import VGG16, preprocess_input\n",
    "from keras.preprocessing.image import ImageDataGenerator\n",
    "from keras.preprocessing import image\n",
    "from keras.preprocessing.image import ImageDataGenerator, load_img, img_to_array\n",
    "from keras.utils import to_categorical\n",
    "\n",
    "from sklearn.preprocessing import LabelEncoder\n",
    "from sklearn.model_selection import train_test_split, StratifiedShuffleSplit\n",
    "\n",
    "%matplotlib inline"
   ]
  },
  {
   "cell_type": "markdown",
   "metadata": {},
   "source": [
    "##  1.1加载数据"
   ]
  },
  {
   "cell_type": "code",
   "execution_count": 2,
   "metadata": {},
   "outputs": [],
   "source": [
    "#读取图片\n",
    "def read_and_process_image(data_dir, width = 64, height = 64, channels = 3, preprocess = False):\n",
    "    train_images = [data_dir + i for i in os.listdir(data_dir) if i != '.DS_Store']\n",
    "\n",
    "    random.shuffle(train_images)\n",
    "    \n",
    "    def read_image(file_path, preprocess):\n",
    "        img = image.load_img(file_path)\n",
    "        target = (height, width)\n",
    "        img = img.resize(target)\n",
    "        x = image.img_to_array(img)\n",
    "        x = np.expand_dims(x, axis=0)\n",
    "        if preprocess:\n",
    "            x = preprocess_input(x)\n",
    "        return x\n",
    "\n",
    "    def prep_data(images, preprocess):\n",
    "        count = len(images)\n",
    "        data = np.ndarray((count, width, height, channels), dtype=np.float32)\n",
    "\n",
    "        for i, image_file in enumerate(images):\n",
    "            image = read_image(image_file, preprocess)\n",
    "            data[i] = image\n",
    "    \n",
    "        return data\n",
    "    \n",
    "    def read_labels(file_path):\n",
    "        #Using 1 to represent dog and 0 for cat\n",
    "        labels = []\n",
    "        label_encoder = LabelEncoder()\n",
    "        for i in file_path:\n",
    "            label = i.split('/')[1].split('.')[0].split('_')[0]\n",
    "            labels.append(label)\n",
    "        labels = label_encoder.fit_transform(labels)\n",
    "        \n",
    "        return labels, label_encoder\n",
    "\n",
    "    X = prep_data(train_images, preprocess)\n",
    "    labels, label_encoder = read_labels(train_images)\n",
    "    \n",
    "    assert X.shape[0] == len(labels)\n",
    "\n",
    "    print(\"Train shape: {}\".format(X.shape))\n",
    "    \n",
    "    return X, labels, label_encoder"
   ]
  },
  {
   "cell_type": "code",
   "execution_count": 3,
   "metadata": {},
   "outputs": [
    {
     "name": "stdout",
     "output_type": "stream",
     "text": [
      "Train shape: (62, 48, 48, 3)\n"
     ]
    }
   ],
   "source": [
    "WIDTH = 48\n",
    "HEIGHT = 48\n",
    "CHANNELS = 3\n",
    "X, y, label_encoder = read_and_process_image('input/', width = WIDTH, height = HEIGHT, channels = CHANNELS)"
   ]
  },
  {
   "cell_type": "code",
   "execution_count": 4,
   "metadata": {},
   "outputs": [],
   "source": [
    "sss = StratifiedShuffleSplit(n_splits=2, test_size=0.3, random_state=0)"
   ]
  },
  {
   "cell_type": "code",
   "execution_count": 5,
   "metadata": {},
   "outputs": [
    {
     "data": {
      "text/plain": [
       "2"
      ]
     },
     "execution_count": 5,
     "metadata": {},
     "output_type": "execute_result"
    }
   ],
   "source": [
    "sss.get_n_splits(X, y)"
   ]
  },
  {
   "cell_type": "code",
   "execution_count": 6,
   "metadata": {},
   "outputs": [],
   "source": [
    "for train_index, test_index in sss.split(X, y):\n",
    "    train_X, train_y = X[train_index], y[train_index]\n",
    "    test_X, test_y = X[test_index], y[test_index]"
   ]
  },
  {
   "cell_type": "code",
   "execution_count": 7,
   "metadata": {},
   "outputs": [
    {
     "data": {
      "text/plain": [
       "array([0, 1, 0, 1, 2, 2, 0, 2, 2, 0, 3, 3, 2, 3, 2, 2, 3, 0, 2],\n",
       "      dtype=int64)"
      ]
     },
     "execution_count": 7,
     "metadata": {},
     "output_type": "execute_result"
    }
   ],
   "source": [
    "test_y"
   ]
  },
  {
   "cell_type": "code",
   "execution_count": 8,
   "metadata": {},
   "outputs": [],
   "source": [
    "#转lable\n",
    "train_y = to_categorical(train_y)\n",
    "test_y = to_categorical(test_y)"
   ]
  },
  {
   "cell_type": "code",
   "execution_count": 9,
   "metadata": {},
   "outputs": [
    {
     "data": {
      "text/plain": [
       "(43, 4)"
      ]
     },
     "execution_count": 9,
     "metadata": {},
     "output_type": "execute_result"
    }
   ],
   "source": [
    "train_y.shape\n"
   ]
  },
  {
   "cell_type": "code",
   "execution_count": 10,
   "metadata": {},
   "outputs": [],
   "source": [
    "#定义Vgg16模型\n",
    "def vgg16_model(input_shape = (WIDTH, HEIGHT, CHANNELS)):\n",
    "    vgg16 = VGG16(include_top = False, weights = 'imagenet', input_shape = input_shape)\n",
    "    \n",
    "    for layer in vgg16.layers:\n",
    "        layer.trainable = False\n",
    "    \n",
    "    last = vgg16.output\n",
    "    \n",
    "    x = Flatten()(last)\n",
    "    x = Dense(256, activation = 'relu')(x)\n",
    "    x = Dropout(0.5)(x)\n",
    "    x = Dense(4, activation='softmax')(x)\n",
    "    \n",
    "    model = Model(inputs = vgg16.input, outputs=x)\n",
    "    \n",
    "    return model"
   ]
  },
  {
   "cell_type": "code",
   "execution_count": 11,
   "metadata": {},
   "outputs": [
    {
     "name": "stdout",
     "output_type": "stream",
     "text": [
      "A local file was found, but it seems to be incomplete or outdated because the auto file hash does not match the original value of 6d6bbae143d832006294945121d1f1fc so we will re-download the data.\n",
      "Downloading data from https://github.com/fchollet/deep-learning-models/releases/download/v0.1/vgg16_weights_tf_dim_ordering_tf_kernels_notop.h5\n",
      "58892288/58889256 [==============================] - 107s 2us/step\n"
     ]
    }
   ],
   "source": [
    "#加载VGG16模型\n",
    "model_vgg16 = vgg16_model()"
   ]
  },
  {
   "cell_type": "code",
   "execution_count": 12,
   "metadata": {},
   "outputs": [
    {
     "name": "stdout",
     "output_type": "stream",
     "text": [
      "_________________________________________________________________\n",
      "Layer (type)                 Output Shape              Param #   \n",
      "=================================================================\n",
      "input_1 (InputLayer)         (None, 48, 48, 3)         0         \n",
      "_________________________________________________________________\n",
      "block1_conv1 (Conv2D)        (None, 48, 48, 64)        1792      \n",
      "_________________________________________________________________\n",
      "block1_conv2 (Conv2D)        (None, 48, 48, 64)        36928     \n",
      "_________________________________________________________________\n",
      "block1_pool (MaxPooling2D)   (None, 24, 24, 64)        0         \n",
      "_________________________________________________________________\n",
      "block2_conv1 (Conv2D)        (None, 24, 24, 128)       73856     \n",
      "_________________________________________________________________\n",
      "block2_conv2 (Conv2D)        (None, 24, 24, 128)       147584    \n",
      "_________________________________________________________________\n",
      "block2_pool (MaxPooling2D)   (None, 12, 12, 128)       0         \n",
      "_________________________________________________________________\n",
      "block3_conv1 (Conv2D)        (None, 12, 12, 256)       295168    \n",
      "_________________________________________________________________\n",
      "block3_conv2 (Conv2D)        (None, 12, 12, 256)       590080    \n",
      "_________________________________________________________________\n",
      "block3_conv3 (Conv2D)        (None, 12, 12, 256)       590080    \n",
      "_________________________________________________________________\n",
      "block3_pool (MaxPooling2D)   (None, 6, 6, 256)         0         \n",
      "_________________________________________________________________\n",
      "block4_conv1 (Conv2D)        (None, 6, 6, 512)         1180160   \n",
      "_________________________________________________________________\n",
      "block4_conv2 (Conv2D)        (None, 6, 6, 512)         2359808   \n",
      "_________________________________________________________________\n",
      "block4_conv3 (Conv2D)        (None, 6, 6, 512)         2359808   \n",
      "_________________________________________________________________\n",
      "block4_pool (MaxPooling2D)   (None, 3, 3, 512)         0         \n",
      "_________________________________________________________________\n",
      "block5_conv1 (Conv2D)        (None, 3, 3, 512)         2359808   \n",
      "_________________________________________________________________\n",
      "block5_conv2 (Conv2D)        (None, 3, 3, 512)         2359808   \n",
      "_________________________________________________________________\n",
      "block5_conv3 (Conv2D)        (None, 3, 3, 512)         2359808   \n",
      "_________________________________________________________________\n",
      "block5_pool (MaxPooling2D)   (None, 1, 1, 512)         0         \n",
      "_________________________________________________________________\n",
      "flatten_1 (Flatten)          (None, 512)               0         \n",
      "_________________________________________________________________\n",
      "dense_1 (Dense)              (None, 256)               131328    \n",
      "_________________________________________________________________\n",
      "dropout_1 (Dropout)          (None, 256)               0         \n",
      "_________________________________________________________________\n",
      "dense_2 (Dense)              (None, 4)                 1028      \n",
      "=================================================================\n",
      "Total params: 14,847,044\n",
      "Trainable params: 132,356\n",
      "Non-trainable params: 14,714,688\n",
      "_________________________________________________________________\n"
     ]
    }
   ],
   "source": [
    "#查看模型参数\n",
    "model_vgg16.summary()"
   ]
  },
  {
   "cell_type": "code",
   "execution_count": 13,
   "metadata": {},
   "outputs": [],
   "source": [
    "#定义训练损失函数 优化器 精确度\n",
    "model_vgg16.compile(loss='categorical_crossentropy', optimizer = Adam(0.0001), metrics=['accuracy'])"
   ]
  },
  {
   "cell_type": "code",
   "execution_count": 14,
   "metadata": {},
   "outputs": [
    {
     "name": "stdout",
     "output_type": "stream",
     "text": [
      "Train on 43 samples, validate on 19 samples\n",
      "Epoch 1/20\n",
      "43/43 [==============================] - 7s 157ms/step - loss: 9.8206 - acc: 0.2558 - val_loss: 10.6653 - val_acc: 0.1579\n",
      "Epoch 2/20\n",
      "43/43 [==============================] - 5s 122ms/step - loss: 8.4327 - acc: 0.3256 - val_loss: 10.4557 - val_acc: 0.1579\n",
      "Epoch 3/20\n",
      "43/43 [==============================] - 5s 119ms/step - loss: 8.3324 - acc: 0.3023 - val_loss: 10.2977 - val_acc: 0.2632\n",
      "Epoch 4/20\n",
      "43/43 [==============================] - 6s 129ms/step - loss: 8.9224 - acc: 0.3023 - val_loss: 10.1396 - val_acc: 0.2632\n",
      "Epoch 5/20\n",
      "43/43 [==============================] - 5s 119ms/step - loss: 9.8714 - acc: 0.2791 - val_loss: 9.9857 - val_acc: 0.2632\n",
      "Epoch 6/20\n",
      "43/43 [==============================] - 5s 126ms/step - loss: 8.6355 - acc: 0.3721 - val_loss: 9.7993 - val_acc: 0.2105\n",
      "Epoch 7/20\n",
      "43/43 [==============================] - 5s 117ms/step - loss: 8.8030 - acc: 0.3256 - val_loss: 9.6087 - val_acc: 0.2105\n",
      "Epoch 8/20\n",
      "43/43 [==============================] - 5s 124ms/step - loss: 7.4386 - acc: 0.3953 - val_loss: 9.4597 - val_acc: 0.2105\n",
      "Epoch 9/20\n",
      "43/43 [==============================] - 5s 124ms/step - loss: 8.5731 - acc: 0.3721 - val_loss: 9.2953 - val_acc: 0.2632\n",
      "Epoch 10/20\n",
      "43/43 [==============================] - 5s 117ms/step - loss: 8.3611 - acc: 0.3953 - val_loss: 9.0958 - val_acc: 0.2632\n",
      "Epoch 11/20\n",
      "43/43 [==============================] - 5s 119ms/step - loss: 10.7190 - acc: 0.2326 - val_loss: 8.9417 - val_acc: 0.2632\n",
      "Epoch 12/20\n",
      "43/43 [==============================] - 5s 117ms/step - loss: 9.0542 - acc: 0.3721 - val_loss: 8.8078 - val_acc: 0.2632\n",
      "Epoch 13/20\n",
      "43/43 [==============================] - 5s 117ms/step - loss: 7.4313 - acc: 0.4419 - val_loss: 8.6771 - val_acc: 0.2632\n",
      "Epoch 14/20\n",
      "43/43 [==============================] - 5s 116ms/step - loss: 8.6346 - acc: 0.3721 - val_loss: 8.5289 - val_acc: 0.2632\n",
      "Epoch 15/20\n",
      "43/43 [==============================] - 5s 118ms/step - loss: 7.8339 - acc: 0.3953 - val_loss: 8.3832 - val_acc: 0.2632\n",
      "Epoch 16/20\n",
      "43/43 [==============================] - 5s 117ms/step - loss: 9.9522 - acc: 0.2093 - val_loss: 8.2386 - val_acc: 0.2632\n",
      "Epoch 17/20\n",
      "43/43 [==============================] - 5s 116ms/step - loss: 6.9182 - acc: 0.4186 - val_loss: 8.0984 - val_acc: 0.2632\n",
      "Epoch 18/20\n",
      "43/43 [==============================] - 5s 120ms/step - loss: 7.8372 - acc: 0.4651 - val_loss: 7.9632 - val_acc: 0.2632\n",
      "Epoch 19/20\n",
      "43/43 [==============================] - 5s 124ms/step - loss: 7.5574 - acc: 0.4419 - val_loss: 7.8246 - val_acc: 0.2632\n",
      "Epoch 20/20\n",
      "43/43 [==============================] - 5s 116ms/step - loss: 7.0564 - acc: 0.3953 - val_loss: 7.6716 - val_acc: 0.2632\n",
      "19/19 [==============================] - 2s 83ms/step\n",
      "VGG-16 Pretrained Model Error: 73.68%\n"
     ]
    }
   ],
   "source": [
    "#喂入数据\n",
    "history = model_vgg16.fit(train_X, train_y, validation_data=(test_X,test_y), epochs=20, batch_size=64)\n",
    "#计算错误率\n",
    "scores = model_vgg16.evaluate(test_X, test_y, verbose=True)\n",
    "print(\"VGG-16 Pretrained Model Error: %.2f%%\" %(100-scores[1] * 100))"
   ]
  },
  {
   "cell_type": "code",
   "execution_count": 15,
   "metadata": {},
   "outputs": [],
   "source": [
    "#测试准确性\n",
    "y_test_pred = model_vgg16.predict(test_X)\n",
    "y_lable = np.argmax(y_test_pred, axis=1)"
   ]
  },
  {
   "cell_type": "code",
   "execution_count": 21,
   "metadata": {},
   "outputs": [
    {
     "data": {
      "text/plain": [
       "array([2], dtype=int64)"
      ]
     },
     "execution_count": 21,
     "metadata": {},
     "output_type": "execute_result"
    }
   ],
   "source": [
    "y_lable[:1]"
   ]
  },
  {
   "cell_type": "code",
   "execution_count": null,
   "metadata": {},
   "outputs": [],
   "source": [
    "for i in range(test_X.shape[0]):\n",
    "    plt.figure(figsize=(10,5), frameon=True)\n",
    "    img = test_X[i, :, :, ::-1]\n",
    "    img = img/255.\n",
    "    plt.imshow(img)\n",
    "    plt.title('predict class: {}'.format(label_encoder.inverse_transform([y_label[i]])[0]))\n",
    "    plt.show()"
   ]
  }
 ],
 "metadata": {
  "kernelspec": {
   "display_name": "tensorflow",
   "language": "python",
   "name": "tensorflow"
  },
  "language_info": {
   "codemirror_mode": {
    "name": "ipython",
    "version": 3
   },
   "file_extension": ".py",
   "mimetype": "text/x-python",
   "name": "python",
   "nbconvert_exporter": "python",
   "pygments_lexer": "ipython3",
   "version": "3.5.6"
  }
 },
 "nbformat": 4,
 "nbformat_minor": 2
}
