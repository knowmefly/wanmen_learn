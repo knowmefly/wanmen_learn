{
 "cells": [
  {
   "cell_type": "markdown",
   "metadata": {},
   "source": [
    "### Building the Graph"
   ]
  },
  {
   "cell_type": "markdown",
   "metadata": {},
   "source": [
    "在这个例子中 我们需要构建5块内容：\n",
    "\n",
    "1）variable： 用于存储两个变量\n",
    "   训练次数 （不参与训练）\n",
    "   output\n",
    "   \n",
    "2）transformation： 对输入参数进行变形\n",
    "   采用 placeholder\n",
    "\n",
    "3）update： 更新的规律\n",
    "\n",
    "4）summary 用于 tensor board scalars\n",
    "\n",
    "5）global_operations \n",
    "   初始化参数\n",
    "   merge summary"
   ]
  },
  {
   "cell_type": "code",
   "execution_count": 5,
   "metadata": {},
   "outputs": [],
   "source": [
    "import tensorflow as tf\n",
    "import numpy as np"
   ]
  },
  {
   "cell_type": "code",
   "execution_count": 2,
   "metadata": {},
   "outputs": [],
   "source": [
    "my_graph = tf.Graph()"
   ]
  },
  {
   "cell_type": "code",
   "execution_count": 4,
   "metadata": {},
   "outputs": [],
   "source": [
    "with my_graph.as_default():\n",
    "    with tf.name_scope('variables'):\n",
    "        global_step = tf.Variable(0, dtype=tf.int32, trainable=False)\n",
    "        total_outputs = tf.Variable(0.0,dtype=tf.float32, trainable=False)\n",
    "    with tf.name_scope('transformation'):\n",
    "        with tf.name_scope('input'):\n",
    "            a = tf.placeholder(tf.float32,shape=(None), name='input_pla_a')\n",
    "        \n",
    "        with tf.name_scope('middle'):\n",
    "            b = tf.reduce_prod(a, name='prouduction_b')\n",
    "            c = tf.reduce_sum(a, name='sum_c')\n",
    "        \n",
    "        with tf.name_scope('output'):\n",
    "            output = tf.add(b,c, name='output')\n",
    "    with tf.name_scope('update'):\n",
    "        updata_total = total_outputs.assign_add(output)\n",
    "        total_step = global_step.assign_add(1)\n",
    "    \n",
    "    with tf.name_scope('summaries'):\n",
    "        average = tf.div(updata_total, tf.cast(total_step, tf.float32),name='average')\n",
    "        tf.summary.scalar('out_summary', output)\n",
    "        tf.summary.scalar('total_summary',updata_total)\n",
    "        tf.summary.scalar('average_summary',average)\n",
    "    with tf.name_scope('global_operations'):\n",
    "        init = tf.global_variables_initializer()\n",
    "        merged_summaries = tf.summary.merge_all()"
   ]
  },
  {
   "cell_type": "markdown",
   "metadata": {},
   "source": [
    "### Running the Graph : Session"
   ]
  },
  {
   "cell_type": "code",
   "execution_count": 5,
   "metadata": {},
   "outputs": [],
   "source": [
    "sess = tf.Session(graph=my_graph)\n",
    "summary_writer = tf.summary.FileWriter('./example_1', sess.graph)"
   ]
  },
  {
   "cell_type": "code",
   "execution_count": 6,
   "metadata": {},
   "outputs": [],
   "source": [
    "sess.run(init)"
   ]
  },
  {
   "cell_type": "code",
   "execution_count": 15,
   "metadata": {},
   "outputs": [],
   "source": [
    "def run_graph(input_tensor):\n",
    "    feed_dict = {a: input_tensor}\n",
    "    outputs, step, summary = sess.run([output, total_step, merged_summaries], feed_dict=feed_dict)\n",
    "    #print('step=', step, 'summary=', summary)\n",
    "    print(outputs)\n",
    "    print(step)\n",
    "    summary_writer.add_summary(summary, global_step=step)\n",
    "    summary_writer.add_graph(sess.graph)"
   ]
  },
  {
   "cell_type": "code",
   "execution_count": 16,
   "metadata": {},
   "outputs": [
    {
     "name": "stdout",
     "output_type": "stream",
     "text": [
      "26.0\n",
      "19\n",
      "48.0\n",
      "20\n",
      "10.0\n",
      "21\n",
      "5459.0\n",
      "22\n",
      "1.0\n",
      "23\n",
      "3.0\n",
      "24\n"
     ]
    }
   ],
   "source": [
    "run_graph([2,8])\n",
    "run_graph([3,11,1])\n",
    "run_graph([5])\n",
    "run_graph([2,3,99,9])\n",
    "run_graph([1,0,0])\n",
    "run_graph([[1],[2],[0]])"
   ]
  },
  {
   "cell_type": "code",
   "execution_count": 12,
   "metadata": {},
   "outputs": [],
   "source": [
    "summary_writer.flush()"
   ]
  },
  {
   "cell_type": "code",
   "execution_count": 17,
   "metadata": {},
   "outputs": [],
   "source": [
    "summary_writer.close()\n",
    "sess.close()"
   ]
  },
  {
   "cell_type": "code",
   "execution_count": 1,
   "metadata": {},
   "outputs": [
    {
     "name": "stderr",
     "output_type": "stream",
     "text": [
      "'tensorboard' 不是内部或外部命令，也不是可运行的程序\n",
      "或批处理文件。\n"
     ]
    }
   ],
   "source": [
    "!tensorboard --logdir = './example_l'"
   ]
  },
  {
   "cell_type": "code",
   "execution_count": 8,
   "metadata": {},
   "outputs": [],
   "source": [
    "sess=tf.Session()"
   ]
  },
  {
   "cell_type": "code",
   "execution_count": 13,
   "metadata": {},
   "outputs": [
    {
     "name": "stdout",
     "output_type": "stream",
     "text": [
      "Object `tf.Session().run()` not found.\n"
     ]
    }
   ],
   "source": [
    "?tf.Session().run()"
   ]
  },
  {
   "cell_type": "code",
   "execution_count": 17,
   "metadata": {},
   "outputs": [
    {
     "name": "stdout",
     "output_type": "stream",
     "text": [
      "Object `tf.nn.conv2d()` not found.\n"
     ]
    }
   ],
   "source": [
    "?tf.nn.conv2d()"
   ]
  },
  {
   "cell_type": "code",
   "execution_count": 18,
   "metadata": {},
   "outputs": [
    {
     "name": "stdout",
     "output_type": "stream",
     "text": [
      "0.10717734\n",
      "1\n",
      "0.11486983\n",
      "2\n",
      "0.123114444\n",
      "3\n",
      "0.1319508\n",
      "4\n",
      "0.14142136\n",
      "5\n",
      "0.15157166\n",
      "6\n",
      "0.16245048\n",
      "7\n",
      "0.17411011\n",
      "8\n",
      "0.1866066\n",
      "9\n",
      "0.2\n",
      "10\n"
     ]
    }
   ],
   "source": [
    "import tensorflow as tf\n",
    "import numpy as np\n",
    " \n",
    "x = tf.placeholder(tf.float32, shape=[None, 1], name='x')\n",
    "y = tf.placeholder(tf.float32, shape=[None, 1], name='y')\n",
    "w = tf.Variable(tf.constant(0.0))\n",
    " \n",
    "global_steps = tf.Variable(0, trainable=False)\n",
    " \n",
    " \n",
    "learning_rate = tf.train.exponential_decay(0.1, global_steps, 10, 2, staircase=False)\n",
    "loss = tf.pow(w*x-y, 2)\n",
    " \n",
    "train_step = tf.train.GradientDescentOptimizer(learning_rate).minimize(loss,global_step=global_steps)\n",
    " \n",
    "with tf.Session() as sess:\n",
    "    sess.run(tf.global_variables_initializer())\n",
    "    for i in range(10):\n",
    "        sess.run(train_step, feed_dict={x:np.linspace(1,2,10).reshape([10,1]),\n",
    "            y:np.linspace(1,2,10).reshape([10,1])})\n",
    "        print(sess.run(learning_rate))\n",
    "        print(sess.run(global_steps))\n"
   ]
  },
  {
   "cell_type": "code",
   "execution_count": null,
   "metadata": {},
   "outputs": [],
   "source": []
  }
 ],
 "metadata": {
  "kernelspec": {
   "display_name": "tensorflow",
   "language": "python",
   "name": "tensorflow"
  },
  "language_info": {
   "codemirror_mode": {
    "name": "ipython",
    "version": 3
   },
   "file_extension": ".py",
   "mimetype": "text/x-python",
   "name": "python",
   "nbconvert_exporter": "python",
   "pygments_lexer": "ipython3",
   "version": "3.5.6"
  }
 },
 "nbformat": 4,
 "nbformat_minor": 2
}
