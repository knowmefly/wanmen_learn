{
 "cells": [
  {
   "cell_type": "code",
   "execution_count": 1,
   "metadata": {},
   "outputs": [
    {
     "name": "stderr",
     "output_type": "stream",
     "text": [
      "Using TensorFlow backend.\n"
     ]
    }
   ],
   "source": [
    "import itertools\n",
    "\n",
    "import numpy as np\n",
    "np.random.seed(1)\n",
    "\n",
    "import matplotlib.pyplot as plt\n",
    "from matplotlib.colors import colorConverter, ListedColormap\n",
    "\n",
    "from sklearn.datasets import make_circles\n",
    "from sklearn.model_selection import train_test_split\n",
    "from sklearn.metrics import confusion_matrix\n",
    "\n",
    "from scipy import signal\n",
    "\n",
    "import cv2\n",
    "\n",
    "%matplotlib inline\n",
    "\n",
    "from keras.models import Sequential\n",
    "from keras.layers import Dense, Dropout, Activation, Flatten\n",
    "from keras.layers.convolutional import Conv2D, MaxPooling2D\n",
    "from keras.optimizers import SGD\n",
    "from keras.utils import np_utils\n",
    "from keras.datasets import mnist\n",
    "import keras.backend as K\n",
    "\n",
    "import tensorflow as tf\n",
    "from keras.backend.tensorflow_backend import set_session\n",
    "config = tf.ConfigProto()\n",
    "config.gpu_options.allow_growth=True\n",
    "set_session(tf.Session(config=config))"
   ]
  },
  {
   "cell_type": "code",
   "execution_count": 2,
   "metadata": {},
   "outputs": [
    {
     "name": "stdout",
     "output_type": "stream",
     "text": [
      "shape of X: (5000, 2)\n"
     ]
    }
   ],
   "source": [
    "#Generate the dataset\n",
    "X, t = make_circles(n_samples = 5000, shuffle=False, factor=0.3, noise=0.1)\n",
    "\n",
    "#Separate the red and blue point\n",
    "x_red = X[t == 0]\n",
    "x_blue = X[t == 1]\n",
    "\n",
    "print('shape of X: {}'.format(X.shape))"
   ]
  },
  {
   "cell_type": "code",
   "execution_count": 5,
   "metadata": {},
   "outputs": [
    {
     "data": {
      "image/png": "[encoded data removed]",
      "text/plain": [
       "<Figure size 432x288 with 1 Axes>"
      ]
     },
     "metadata": {
      "needs_background": "light"
     },
     "output_type": "display_data"
    }
   ],
   "source": [
    "#Plot both classes on the x1, x2 plane\n",
    "plt.plot(x_red[:,0], x_red[:,1], 'ro', label='red class')\n",
    "plt.plot(x_blue[:,0], x_blue[:,1], 'bo', label='blue class')\n",
    "plt.grid()\n",
    "plt.legend(loc=1)\n",
    "plt.xlabel('$x_1$', fontsize=15)\n",
    "plt.ylabel('$x_2$', fontsize=15)\n",
    "plt.axis([-1.5, 1.5, -1.5, 1.5])\n",
    "plt.title('red vs blue classes in the input space')\n",
    "plt.show()"
   ]
  },
  {
   "cell_type": "code",
   "execution_count": 6,
   "metadata": {},
   "outputs": [],
   "source": [
    "#Split dataset into trian and test\n",
    "X_train, X_test, y_train, y_test = train_test_split(X, t, test_size = 0.3, random_state = 0)"
   ]
  },
  {
   "cell_type": "code",
   "execution_count": 7,
   "metadata": {},
   "outputs": [],
   "source": [
    "#Build the model with keras' sequential model\n",
    "#model = Sequential()\n",
    "#model.add(Dense(1, input_dim = 2, kernel_initializer = 'glorot_normal', activation = 'sigmoid'))\n",
    "#sgd = SGD(lr=0.001, decay = 1e-6, momentum = 0.9, nesterov = True)\n",
    "#model.compile(loss = 'binary_crossentropy', metrics=['accuracy'], optimizer = 'adam')\n",
    "#history = model.fit(X_train, y_train, validation_data = (X_test, y_test), verbose = 1, batch_size = 64, epochs = 10)"
   ]
  },
  {
   "cell_type": "code",
   "execution_count": 8,
   "metadata": {},
   "outputs": [
    {
     "name": "stdout",
     "output_type": "stream",
     "text": [
      "Train on 3500 samples, validate on 1500 samples\n",
      "Epoch 1/10\n",
      "3500/3500 [==============================] - 0s 139us/step - loss: 0.7517 - acc: 0.5046 - val_loss: 0.7516 - val_acc: 0.5073\n",
      "Epoch 2/10\n",
      "3500/3500 [==============================] - 0s 18us/step - loss: 0.7463 - acc: 0.5034 - val_loss: 0.7464 - val_acc: 0.5047\n",
      "Epoch 3/10\n",
      "3500/3500 [==============================] - 0s 18us/step - loss: 0.7414 - acc: 0.5026 - val_loss: 0.7417 - val_acc: 0.5040\n",
      "Epoch 4/10\n",
      "3500/3500 [==============================] - 0s 21us/step - loss: 0.7369 - acc: 0.5011 - val_loss: 0.7373 - val_acc: 0.5020\n",
      "Epoch 5/10\n",
      "3500/3500 [==============================] - 0s 20us/step - loss: 0.7328 - acc: 0.4963 - val_loss: 0.7331 - val_acc: 0.4987\n",
      "Epoch 6/10\n",
      "3500/3500 [==============================] - 0s 20us/step - loss: 0.7289 - acc: 0.4974 - val_loss: 0.7293 - val_acc: 0.4987\n",
      "Epoch 7/10\n",
      "3500/3500 [==============================] - 0s 19us/step - loss: 0.7254 - acc: 0.4949 - val_loss: 0.7259 - val_acc: 0.4967\n",
      "Epoch 8/10\n",
      "3500/3500 [==============================] - 0s 19us/step - loss: 0.7222 - acc: 0.4946 - val_loss: 0.7227 - val_acc: 0.4980\n",
      "Epoch 9/10\n",
      "3500/3500 [==============================] - 0s 21us/step - loss: 0.7192 - acc: 0.4934 - val_loss: 0.7197 - val_acc: 0.4947\n",
      "Epoch 10/10\n",
      "3500/3500 [==============================] - 0s 19us/step - loss: 0.7165 - acc: 0.4917 - val_loss: 0.7171 - val_acc: 0.4933\n"
     ]
    }
   ],
   "source": [
    "model = Sequential()\n",
    "model.add(Dense(1, input_dim = 2, kernel_initializer = 'glorot_normal', activation = 'sigmoid'))\n",
    "model.compile(loss = 'binary_crossentropy', metrics=['accuracy'], optimizer = 'adam')\n",
    "history = model.fit(X_train, y_train, validation_data = (X_test, y_test), verbose = 1, batch_size = 64, epochs = 10)"
   ]
  },
  {
   "cell_type": "code",
   "execution_count": 9,
   "metadata": {},
   "outputs": [],
   "source": [
    "#Predition function by calling keras model predict method\n",
    "#Will use 0.5 as threshold for binary classification\n",
    "def nn_predict(model, X):\n",
    "    \n",
    "    return (model.predict(X) > 0.5).astype(int)"
   ]
  },
  {
   "cell_type": "code",
   "execution_count": 10,
   "metadata": {},
   "outputs": [
    {
     "data": {
      "image/png": "[encoded data removed]",
      "text/plain": [
       "<Figure size 432x288 with 1 Axes>"
      ]
     },
     "metadata": {
      "needs_background": "light"
     },
     "output_type": "display_data"
    }
   ],
   "source": [
    "#Plot the resulting decision boundary\n",
    "#Generate a grid over the input space to plot the color of the\n",
    "#classification at that grid point\n",
    "nb_of_xs = 200\n",
    "xs1 = np.linspace(-2, 2, num = nb_of_xs)\n",
    "xs2 = np.linspace(-2, 2, num = nb_of_xs)\n",
    "xx, yy = np.meshgrid(xs1, xs2) # create the grid\n",
    "#Initialize and fill the classification plane\n",
    "classification_plane = np.zeros((nb_of_xs, nb_of_xs))\n",
    "for i in range(nb_of_xs):\n",
    "    for j in range(nb_of_xs):\n",
    "        pred = nn_predict(model, np.array([[xx[i,j], yy[i,j]]]))\n",
    "        classification_plane[i, j] = pred[0, 0]\n",
    "#Create a color map to show the classification colors of each grid point\n",
    "cmap = ListedColormap([\n",
    "        colorConverter.to_rgba('b', alpha = 0.30),\n",
    "        colorConverter.to_rgba('r', alpha = 0.30)])\n",
    "\n",
    "#Plot the classification plane with decision boundary and input samples\n",
    "plt.contourf(xx, yy, classification_plane, cmap=cmap)\n",
    "#Plot both classes on the x1, x2 plane\n",
    "plt.plot(x_red[:, 0], x_red[:, 1], 'ro', label = 'red class')\n",
    "plt.plot(x_blue[:, 0], x_blue[:, 1], 'bo', label = 'blue class ')\n",
    "plt.grid()\n",
    "plt.legend(loc = 1)\n",
    "plt.xlabel('$x_1$', fontsize = 15)\n",
    "plt.ylabel('$x_2$', fontsize = 15)\n",
    "plt.axis([-1.5, 1.5, -1.5, 1.5])\n",
    "plt.title('red vs blue classification boundary')\n",
    "plt.show()"
   ]
  },
  {
   "cell_type": "code",
   "execution_count": 11,
   "metadata": {},
   "outputs": [],
   "source": [
    "def plot_confusion_matrix(cm, classes,\n",
    "                          normalize=False,\n",
    "                          title='Confusion matrix',\n",
    "                          cmap=plt.cm.Blues):\n",
    "    \"\"\"\n",
    "    This function prints and plots the confusion matrix.\n",
    "    Normalization can be applied by setting `normalize=True`.\n",
    "    \"\"\"\n",
    "    plt.imshow(cm, interpolation='nearest', cmap=cmap)\n",
    "    plt.title(title)\n",
    "    plt.colorbar()\n",
    "    tick_marks = np.arange(len(classes))\n",
    "    plt.xticks(tick_marks, classes, rotation=45)\n",
    "    plt.yticks(tick_marks, classes)\n",
    "\n",
    "    if normalize:\n",
    "        cm = cm.astype('float') / cm.sum(axis=1)[:, np.newaxis]\n",
    "        print(\"Normalized confusion matrix\")\n",
    "    else:\n",
    "        print('Confusion matrix, without normalization')\n",
    "\n",
    "    print(cm)\n",
    "\n",
    "    thresh = cm.max() / 2.\n",
    "    for i, j in itertools.product(range(cm.shape[0]), range(cm.shape[1])):\n",
    "        plt.text(j, i, cm[i, j],\n",
    "                 horizontalalignment=\"center\",\n",
    "                 color=\"white\" if cm[i, j] > thresh else \"black\")\n",
    "\n",
    "    plt.tight_layout()\n",
    "    plt.ylabel('True label')\n",
    "    plt.xlabel('Predicted label')"
   ]
  },
  {
   "cell_type": "code",
   "execution_count": 12,
   "metadata": {},
   "outputs": [],
   "source": [
    "y_test_pred = nn_predict(model, X_test)\n",
    "#Show confusion table\n",
    "conf_matrix = confusion_matrix(y_test, y_test_pred, labels = None)"
   ]
  },
  {
   "cell_type": "code",
   "execution_count": 13,
   "metadata": {},
   "outputs": [
    {
     "name": "stdout",
     "output_type": "stream",
     "text": [
      "Confusion matrix, without normalization\n",
      "[[356 365]\n",
      " [395 384]]\n"
     ]
    },
    {
     "data": {
      "image/png": "[encoded data removed]",
      "text/plain": [
       "<Figure size 432x288 with 2 Axes>"
      ]
     },
     "metadata": {
      "needs_background": "light"
     },
     "output_type": "display_data"
    }
   ],
   "source": [
    "np.set_printoptions(precision=2)\n",
    "\n",
    "# Plot non-normalized confusion matrix\n",
    "plt.figure()\n",
    "plot_confusion_matrix(conf_matrix, classes=['red', 'blue'],\n",
    "                      title='Confusion matrix, without normalization')"
   ]
  },
  {
   "cell_type": "markdown",
   "metadata": {},
   "source": [
    "### 1.3 Neural Network with Nonlinear Activation\n",
    "In the previous section, we see that the logistic cannot correctly separate the two classes. The reason is that logistic regression is a linear model, which cannot separate nonlinear problem. From the classification boundary graph, we saw the separation bounday is a linear line. \n",
    "\n",
    "To correctly separate the two classes, we need add some nonlinear activation function and with more hidden layers. Keras offer lots of nonlinear functions: tanh, relu, sigmoid, softplus, etc. For more information, please see [Activation Functions in keras](https://keras.io/activations/).\n",
    "\n",
    "In this part, we will use a user-defined activation function, radial basis funciton(RBF). The RBF is a transfer function that is not usually used in neural networks, except for radial basis function networks. One of the most common transfer functions in neural networks is the sigmoid function. The RBF will allow to separate the blue samples from the red samples in this simple example by only activating for a certain region around the origin. The RBF is plotted in the figure below and is defined in this example as:\n",
    "\n",
    "$$\\text{RBF} = \\phi(z) = e^{-z^2} $$\n",
    "\n",
    "The derivative of this RBF function is:\n",
    "\n",
    "$$\\frac{d \\phi(z)}{dz} = -2 z e^{-z^2} = -2 z \\phi(z)$$"
   ]
  },
  {
   "cell_type": "code",
   "execution_count": 14,
   "metadata": {},
   "outputs": [],
   "source": [
    "#Define the rbf function for visual purpose\n",
    "def rbf_np(z):\n",
    "    return np.exp(-z**2)"
   ]
  },
  {
   "cell_type": "code",
   "execution_count": 15,
   "metadata": {},
   "outputs": [
    {
     "data": {
      "image/png": "[encoded data removed]",
      "text/plain": [
       "<Figure size 432x288 with 1 Axes>"
      ]
     },
     "metadata": {
      "needs_background": "light"
     },
     "output_type": "display_data"
    }
   ],
   "source": [
    "#Plot the rbf function\n",
    "z = np.linspace(-6, 6, 100)\n",
    "plt.plot(z, rbf_np(z), 'b-')\n",
    "plt.xlabel('$z$', fontsize=15)\n",
    "plt.ylabel('$e^{-z^2}$', fontsize=15)\n",
    "plt.title('RBF function')\n",
    "plt.grid()\n",
    "plt.show()"
   ]
  },
  {
   "cell_type": "code",
   "execution_count": 16,
   "metadata": {},
   "outputs": [],
   "source": [
    "#Radius basis function for keras activation\n",
    "def rbf(x):\n",
    "    return K.exp(-1.0 * x ** 2)"
   ]
  },
  {
   "cell_type": "code",
   "execution_count": 17,
   "metadata": {},
   "outputs": [],
   "source": [
    "#Build the model with keras' sequential model\n",
    "#model = Sequential()\n",
    "#model.add(Dense(3, input_dim = 2, kernel_initializer = 'glorot_normal'))\n",
    "#model.add(Activation(rbf))\n",
    "#model.add(Dense(1, input_dim = 3, kernel_initializer = 'glorot_normal', activation = 'sigmoid'))\n",
    "#sgd = SGD(lr = 0.01, decay = 1e-6, momentum = 0.9, nesterov = True)\n",
    "#model.compile(loss = 'binary_crossentropy', metrics=['accuracy'], optimizer = sgd)\n",
    "#history = model.fit(X_train, y_train, verbose = 1, validation_data = (X_test, y_test), batch_size = 64, epochs = 10)"
   ]
  },
  {
   "cell_type": "code",
   "execution_count": 19,
   "metadata": {},
   "outputs": [
    {
     "name": "stdout",
     "output_type": "stream",
     "text": [
      "Train on 3500 samples, validate on 1500 samples\n",
      "Epoch 1/10\n",
      "3500/3500 [==============================] - 1s 324us/step - loss: 0.4982 - acc: 0.8077 - val_loss: 0.3714 - val_acc: 0.8773\n",
      "Epoch 2/10\n",
      "3500/3500 [==============================] - 0s 123us/step - loss: 0.2909 - acc: 0.9660 - val_loss: 0.2205 - val_acc: 0.9973\n",
      "Epoch 3/10\n",
      "3500/3500 [==============================] - 0s 126us/step - loss: 0.2012 - acc: 0.9969 - val_loss: 0.1676 - val_acc: 0.9980\n",
      "Epoch 4/10\n",
      "3500/3500 [==============================] - 0s 122us/step - loss: 0.1599 - acc: 0.9971 - val_loss: 0.1366 - val_acc: 0.9980\n",
      "Epoch 5/10\n",
      "3500/3500 [==============================] - 0s 129us/step - loss: 0.1343 - acc: 0.9986 - val_loss: 0.1166 - val_acc: 0.9980\n",
      "Epoch 6/10\n",
      "3500/3500 [==============================] - 0s 123us/step - loss: 0.1165 - acc: 0.9974 - val_loss: 0.1033 - val_acc: 0.9980\n",
      "Epoch 7/10\n",
      "3500/3500 [==============================] - 0s 120us/step - loss: 0.1027 - acc: 0.9977 - val_loss: 0.0920 - val_acc: 0.9993\n",
      "Epoch 8/10\n",
      "3500/3500 [==============================] - 0s 124us/step - loss: 0.0925 - acc: 0.9986 - val_loss: 0.0843 - val_acc: 0.9993\n",
      "Epoch 9/10\n",
      "3500/3500 [==============================] - 0s 118us/step - loss: 0.0840 - acc: 0.9983 - val_loss: 0.0761 - val_acc: 1.0000\n",
      "Epoch 10/10\n",
      "3500/3500 [==============================] - 0s 119us/step - loss: 0.0772 - acc: 0.9983 - val_loss: 0.0706 - val_acc: 1.0000\n"
     ]
    }
   ],
   "source": [
    "model = Sequential()\n",
    "model.add(Dense(3, input_dim = 2, kernel_initializer = 'glorot_normal'))\n",
    "model.add(Activation(rbf))\n",
    "model.add(Dense(1, input_dim = 3, kernel_initializer = 'glorot_normal', activation = 'sigmoid'))\n",
    "sgd = SGD(lr = 0.01, decay = 1e-6, momentum = 0.9, nesterov = True)\n",
    "model.compile(loss = 'binary_crossentropy', metrics=['accuracy'], optimizer = sgd)\n",
    "history = model.fit(X_train, y_train, verbose = 1, validation_data = (X_test, y_test), batch_size = 10, epochs = 10)"
   ]
  },
  {
   "cell_type": "code",
   "execution_count": 20,
   "metadata": {},
   "outputs": [
    {
     "data": {
      "image/png": "[encoded data removed]",
      "text/plain": [
       "<Figure size 432x288 with 1 Axes>"
      ]
     },
     "metadata": {
      "needs_background": "light"
     },
     "output_type": "display_data"
    }
   ],
   "source": [
    "plt.plot(history.history['acc'])\n",
    "plt.plot(history.history['val_acc'])\n",
    "plt.title('model accuracy')\n",
    "plt.ylabel('accuracy')\n",
    "plt.xlabel('epoch')\n",
    "plt.legend(['train', 'test'], loc='upper right')\n",
    "plt.show()"
   ]
  },
  {
   "cell_type": "code",
   "execution_count": 21,
   "metadata": {},
   "outputs": [
    {
     "data": {
      "image/png": "[encoded data removed]",
      "text/plain": [
       "<Figure size 432x288 with 1 Axes>"
      ]
     },
     "metadata": {
      "needs_background": "light"
     },
     "output_type": "display_data"
    }
   ],
   "source": [
    "plt.plot(history.history['loss'])\n",
    "plt.plot(history.history['val_loss'])\n",
    "plt.title('model loss')\n",
    "plt.ylabel('loss')\n",
    "plt.xlabel('epoch')\n",
    "plt.legend(['train', 'test'], loc='upper right')\n",
    "plt.show()"
   ]
  },
  {
   "cell_type": "code",
   "execution_count": 22,
   "metadata": {},
   "outputs": [
    {
     "data": {
      "image/png": "[encoded data removed]",
      "text/plain": [
       "<Figure size 432x288 with 1 Axes>"
      ]
     },
     "metadata": {
      "needs_background": "light"
     },
     "output_type": "display_data"
    }
   ],
   "source": [
    "#Plot the resulting decision boundary\n",
    "#Generate a grid over the input space to plot the color of the\n",
    "#classification at that grid point\n",
    "nb_of_xs = 200\n",
    "xs1 = np.linspace(-2, 2, num = nb_of_xs)\n",
    "xs2 = np.linspace(-2, 2, num = nb_of_xs)\n",
    "xx, yy = np.meshgrid(xs1, xs2) # create the grid\n",
    "#Initialize and fill the classification plane\n",
    "classification_plane = np.zeros((nb_of_xs, nb_of_xs))\n",
    "for i in range(nb_of_xs):\n",
    "    for j in range(nb_of_xs):\n",
    "        pred = nn_predict(model, np.array([[xx[i,j], yy[i,j]]]))\n",
    "        classification_plane[i, j] = pred[0, 0]\n",
    "#Create a color map to show the classification colors of each grid point\n",
    "cmap = ListedColormap([\n",
    "        colorConverter.to_rgba('b', alpha = 0.30),\n",
    "        colorConverter.to_rgba('r', alpha = 0.30)])\n",
    "\n",
    "#Plot the classification plane with decision boundary and input samples\n",
    "plt.contourf(xx, yy, classification_plane, cmap = cmap)\n",
    "#Plot both classes on the x1, x2 plane\n",
    "plt.plot(x_red[:, 0], x_red[:, 1], 'ro', label = 'red class')\n",
    "plt.plot(x_blue[:, 0], x_blue[:, 1], 'bo', label = 'blue class ')\n",
    "plt.grid()\n",
    "plt.legend(loc = 1)\n",
    "plt.xlabel('$x_1$', fontsize = 15)\n",
    "plt.ylabel('$x_2$', fontsize = 15)\n",
    "plt.axis([-1.5, 1.5, -1.5, 1.5])\n",
    "plt.title('red vs blue classification boundary')\n",
    "plt.show()"
   ]
  },
  {
   "cell_type": "code",
   "execution_count": 23,
   "metadata": {},
   "outputs": [],
   "source": [
    "t_pred = nn_predict(model, X)\n",
    "#Show confusion table\n",
    "conf_matrix = confusion_matrix(t, t_pred, labels = None)"
   ]
  },
  {
   "cell_type": "code",
   "execution_count": 24,
   "metadata": {},
   "outputs": [
    {
     "name": "stdout",
     "output_type": "stream",
     "text": [
      "Confusion matrix, without normalization\n",
      "[[2500    0]\n",
      " [   4 2496]]\n"
     ]
    },
    {
     "data": {
      "image/png": "[encoded data removed]",
      "text/plain": [
       "<Figure size 432x288 with 2 Axes>"
      ]
     },
     "metadata": {
      "needs_background": "light"
     },
     "output_type": "display_data"
    }
   ],
   "source": [
    "np.set_printoptions(precision=2)\n",
    "\n",
    "# Plot non-normalized confusion matrix\n",
    "plt.figure()\n",
    "plot_confusion_matrix(conf_matrix, classes=['red', 'blue'],\n",
    "                      title='Confusion matrix, without normalization')"
   ]
  },
  {
   "cell_type": "markdown",
   "metadata": {},
   "source": [
    "## 2.1加载数据集"
   ]
  },
  {
   "cell_type": "code",
   "execution_count": 2,
   "metadata": {},
   "outputs": [],
   "source": [
    "(X_train, y_train), (X_test, y_test) = mnist.load_data()"
   ]
  },
  {
   "cell_type": "code",
   "execution_count": 3,
   "metadata": {},
   "outputs": [
    {
     "data": {
      "text/plain": [
       "(10000, 28, 28)"
      ]
     },
     "execution_count": 3,
     "metadata": {},
     "output_type": "execute_result"
    }
   ],
   "source": [
    "X_test.shape"
   ]
  },
  {
   "cell_type": "code",
   "execution_count": 4,
   "metadata": {},
   "outputs": [],
   "source": [
    "def plot_figure(im, interp = False):\n",
    "    f = plt.figure(figsize=(3, 6))\n",
    "    plt.gray()\n",
    "    plt.imshow(im, interpolation = None if interp else 'none')"
   ]
  },
  {
   "cell_type": "markdown",
   "metadata": {},
   "source": [
    "## 2.2卷积"
   ]
  },
  {
   "cell_type": "code",
   "execution_count": 5,
   "metadata": {},
   "outputs": [
    {
     "data": {
      "image/png": "[encoded data removed]",
      "text/plain": [
       "<Figure size 216x432 with 1 Axes>"
      ]
     },
     "metadata": {
      "needs_background": "light"
     },
     "output_type": "display_data"
    }
   ],
   "source": [
    "plot_figure(X_train[130])"
   ]
  },
  {
   "cell_type": "code",
   "execution_count": 8,
   "metadata": {},
   "outputs": [
    {
     "data": {
      "image/png": "[encoded data removed]",
      "text/plain": [
       "<Figure size 216x432 with 1 Axes>"
      ]
     },
     "metadata": {
      "needs_background": "light"
     },
     "output_type": "display_data"
    }
   ],
   "source": [
    "vertical = [[1, -1]]\n",
    "plot_figure(vertical)\n"
   ]
  },
  {
   "cell_type": "code",
   "execution_count": 9,
   "metadata": {},
   "outputs": [
    {
     "data": {
      "image/png": "[encoded data removed]",
      "text/plain": [
       "<Figure size 216x432 with 1 Axes>"
      ]
     },
     "metadata": {
      "needs_background": "light"
     },
     "output_type": "display_data"
    }
   ],
   "source": [
    "horizontal = [[1],[-1]]\n",
    "plot_figure(horizontal)"
   ]
  },
  {
   "cell_type": "code",
   "execution_count": 17,
   "metadata": {},
   "outputs": [
    {
     "data": {
      "image/png": "[encoded data removed]",
      "text/plain": [
       "<Figure size 216x432 with 1 Axes>"
      ]
     },
     "metadata": {
      "needs_background": "light"
     },
     "output_type": "display_data"
    }
   ],
   "source": [
    "plot_figure(signal.convolve2d(X_train[130], vertical))"
   ]
  },
  {
   "cell_type": "code",
   "execution_count": 18,
   "metadata": {},
   "outputs": [
    {
     "data": {
      "image/png": "[encoded data removed]",
      "text/plain": [
       "<Figure size 216x432 with 1 Axes>"
      ]
     },
     "metadata": {
      "needs_background": "light"
     },
     "output_type": "display_data"
    }
   ],
   "source": [
    "plot_figure(signal.convolve2d(X_train[130], horizontal))"
   ]
  },
  {
   "cell_type": "markdown",
   "metadata": {},
   "source": [
    "### 2.3 Simple Deep Neural Network"
   ]
  },
  {
   "cell_type": "code",
   "execution_count": 6,
   "metadata": {},
   "outputs": [],
   "source": [
    "num_pixels = X_train.shape[1] * X_train.shape[2]\n",
    "X_train = X_train.reshape(X_train.shape[0], num_pixels).astype('float32')\n",
    "X_test = X_test.reshape(X_test.shape[0], num_pixels).astype('float32')"
   ]
  },
  {
   "cell_type": "code",
   "execution_count": 7,
   "metadata": {},
   "outputs": [
    {
     "data": {
      "text/plain": [
       "784"
      ]
     },
     "execution_count": 7,
     "metadata": {},
     "output_type": "execute_result"
    }
   ],
   "source": [
    "num_pixels"
   ]
  },
  {
   "cell_type": "code",
   "execution_count": 17,
   "metadata": {},
   "outputs": [
    {
     "data": {
      "text/plain": [
       "2"
      ]
     },
     "execution_count": 17,
     "metadata": {},
     "output_type": "execute_result"
    }
   ],
   "source": [
    "X_train.ndim "
   ]
  },
  {
   "cell_type": "code",
   "execution_count": 9,
   "metadata": {},
   "outputs": [],
   "source": [
    "X_train = X_train/255.0\n",
    "X_test = X_test/255.0"
   ]
  },
  {
   "cell_type": "code",
   "execution_count": 14,
   "metadata": {},
   "outputs": [
    {
     "data": {
      "text/plain": [
       "(60000, 784)"
      ]
     },
     "execution_count": 14,
     "metadata": {},
     "output_type": "execute_result"
    }
   ],
   "source": [
    "#y_train[:10]\n",
    "X_train.shape"
   ]
  },
  {
   "cell_type": "code",
   "execution_count": 29,
   "metadata": {},
   "outputs": [],
   "source": [
    "num_classes = len(set(y_train))\n",
    "y_train = np_utils.to_categorical(y_train)\n",
    "y_test = np_utils.to_categorical(y_test)"
   ]
  },
  {
   "cell_type": "code",
   "execution_count": 30,
   "metadata": {},
   "outputs": [
    {
     "data": {
      "text/plain": [
       "array([[0., 0., 0., ..., 0., 0., 0.],\n",
       "       [1., 0., 0., ..., 0., 0., 0.],\n",
       "       [0., 0., 0., ..., 0., 0., 0.],\n",
       "       ...,\n",
       "       [0., 0., 0., ..., 0., 0., 0.],\n",
       "       [0., 0., 0., ..., 0., 0., 0.],\n",
       "       [0., 0., 0., ..., 0., 1., 0.]], dtype=float32)"
      ]
     },
     "execution_count": 30,
     "metadata": {},
     "output_type": "execute_result"
    }
   ],
   "source": [
    "y_train"
   ]
  },
  {
   "cell_type": "code",
   "execution_count": 32,
   "metadata": {},
   "outputs": [],
   "source": [
    "# create model\n",
    "#model = Sequential()\n",
    "#model.add(Dense(num_pixels, input_dim = num_pixels, activation = 'relu'))\n",
    "#model.add(Dense(num_classes, activation = 'softmax'))\n",
    "# Compile model\n",
    "#model.compile(loss = 'categorical_crossentropy', optimizer = 'adam', metrics = ['accuracy'])"
   ]
  },
  {
   "cell_type": "code",
   "execution_count": 11,
   "metadata": {},
   "outputs": [],
   "source": [
    "model = Sequential()\n",
    "model.add(Dense(num_pixels, input_dim = num_pixels, activation='relu'))\n",
    "model.add(Dense(num_classes, activation='softmax'))\n",
    "model.compile(loss = 'categorical_crossentropy', optimizer = 'adam', metrics = ['accuracy'])"
   ]
  },
  {
   "cell_type": "code",
   "execution_count": 16,
   "metadata": {},
   "outputs": [
    {
     "name": "stdout",
     "output_type": "stream",
     "text": [
      "Train on 60000 samples, validate on 10000 samples\n",
      "Epoch 1/1\n",
      "60000/60000 [==============================] - 4s 58us/step - loss: 6.2409e-05 - acc: 1.0000 - val_loss: 0.0672 - val_acc: 0.9855\n",
      "Baseline Error:1.45%\n"
     ]
    }
   ],
   "source": [
    "# fit the model\n",
    "model.fit(X_train, y_train, validation_data=(X_test, y_test), epochs = 1, batch_size=600, verbose=1)\n",
    "#final evaluation of the model\n",
    "scores = model.evaluate(X_test, y_test, verbose=0)\n",
    "print(\"Baseline Error:%.2f%%\" %(100-scores[1]*100))"
   ]
  },
  {
   "cell_type": "code",
   "execution_count": 38,
   "metadata": {},
   "outputs": [
    {
     "name": "stdout",
     "output_type": "stream",
     "text": [
      "_________________________________________________________________\n",
      "Layer (type)                 Output Shape              Param #   \n",
      "=================================================================\n",
      "dense_2 (Dense)              (None, 784)               615440    \n",
      "_________________________________________________________________\n",
      "dense_3 (Dense)              (None, 10)                7850      \n",
      "=================================================================\n",
      "Total params: 623,290\n",
      "Trainable params: 623,290\n",
      "Non-trainable params: 0\n",
      "_________________________________________________________________\n"
     ]
    }
   ],
   "source": [
    "model.summary()"
   ]
  },
  {
   "cell_type": "markdown",
   "metadata": {},
   "source": [
    "## 2.4 Convolution Neural Network"
   ]
  },
  {
   "cell_type": "code",
   "execution_count": 31,
   "metadata": {},
   "outputs": [],
   "source": [
    "X_train = X_train.reshape(X_train.shape[0], 28, 28, 1).astype('float32')\n",
    "X_test = X_test.reshape(X_test.shape[0], 28, 28, 1).astype('float32')"
   ]
  },
  {
   "cell_type": "code",
   "execution_count": 32,
   "metadata": {},
   "outputs": [
    {
     "data": {
      "text/plain": [
       "array([[0., 0., 0., 0., 0., 0., 0., 1., 0., 0.],\n",
       "       [0., 0., 1., 0., 0., 0., 0., 0., 0., 0.],\n",
       "       [0., 1., 0., 0., 0., 0., 0., 0., 0., 0.],\n",
       "       [1., 0., 0., 0., 0., 0., 0., 0., 0., 0.],\n",
       "       [0., 0., 0., 0., 1., 0., 0., 0., 0., 0.],\n",
       "       [0., 1., 0., 0., 0., 0., 0., 0., 0., 0.],\n",
       "       [0., 0., 0., 0., 1., 0., 0., 0., 0., 0.],\n",
       "       [0., 0., 0., 0., 0., 0., 0., 0., 0., 1.],\n",
       "       [0., 0., 0., 0., 0., 1., 0., 0., 0., 0.],\n",
       "       [0., 0., 0., 0., 0., 0., 0., 0., 0., 1.]], dtype=float32)"
      ]
     },
     "execution_count": 32,
     "metadata": {},
     "output_type": "execute_result"
    }
   ],
   "source": [
    "#X_test.shape\n",
    "y_test[:10]\n",
    "#X_train.shape"
   ]
  },
  {
   "cell_type": "code",
   "execution_count": 14,
   "metadata": {},
   "outputs": [],
   "source": [
    "#model = Sequential()\n",
    "#model.add(Conv2D(32, (3, 3), input_shape=(28, 28, 1), activation='relu'))\n",
    "#model.add(Conv2D(32, (3, 3), input_shape=(28, 28, 1), activation='relu'))\n",
    "#model.add(MaxPooling2D(pool_size=(2, 2)))\n",
    "#model.add(Conv2D(64, (3, 3), input_shape=(28, 28, 1), activation='relu'))\n",
    "#model.add(Conv2D(64, (3, 3), input_shape=(28, 28, 1), activation='relu'))\n",
    "#model.add(MaxPooling2D(pool_size=(2, 2)))\n",
    "#model.add(Flatten())\n",
    "#model.add(Dense(128, activation='relu'))\n",
    "#model.add(Dense(num_classes, activation='softmax'))\n",
    "# Compile model\n",
    "#model.compile(loss='categorical_crossentropy', optimizer='adam', metrics=['accuracy'])"
   ]
  },
  {
   "cell_type": "code",
   "execution_count": 35,
   "metadata": {},
   "outputs": [],
   "source": [
    "model = Sequential()\n",
    "#model.add(Conv2D(32, 3, input_shape = (28, 28, 1), activation = 'relu'))\n",
    "model.add(Conv2D(32, 3, activation = 'relu'))\n",
    "#model.add(MaxPooling2D(pool_size = (2, 2)))\n",
    "model.add(Conv2D(64, 3, input_shape = (28, 28, 1), activation = 'relu'))\n",
    "#model.add(Conv2D(64, 3, activation = 'relu'))\n",
    "#model.add(MaxPooling2D(pool_size = (2, 2)))\n",
    "model.add(Flatten())\n",
    "#model.add(Dense(128, activation = 'relu'))\n",
    "model.add(Dense(num_classes, activation = 'softmax'))\n",
    "model.compile(loss='categorical_crossentropy', optimizer='adam', metrics=['accuracy'])"
   ]
  },
  {
   "cell_type": "code",
   "execution_count": 36,
   "metadata": {},
   "outputs": [
    {
     "name": "stdout",
     "output_type": "stream",
     "text": [
      "Train on 60000 samples, validate on 10000 samples\n",
      "Epoch 1/5\n",
      "60000/60000 [==============================] - 275s 5ms/step - loss: 0.3487 - acc: 0.9028 - val_loss: 0.0925 - val_acc: 0.9717\n",
      "Epoch 2/5\n",
      "60000/60000 [==============================] - 267s 4ms/step - loss: 0.0774 - acc: 0.9776 - val_loss: 0.0612 - val_acc: 0.9810\n",
      "Epoch 3/5\n",
      "60000/60000 [==============================] - 268s 4ms/step - loss: 0.0532 - acc: 0.9835 - val_loss: 0.0473 - val_acc: 0.9855\n",
      "Epoch 4/5\n",
      "60000/60000 [==============================] - 273s 5ms/step - loss: 0.0421 - acc: 0.9871 - val_loss: 0.0498 - val_acc: 0.9844\n",
      "Epoch 5/5\n",
      "60000/60000 [==============================] - 272s 5ms/step - loss: 0.0334 - acc: 0.9900 - val_loss: 0.0450 - val_acc: 0.9862\n",
      "Large CNN Error: 1.38%\n"
     ]
    }
   ],
   "source": [
    "# 喂入数据\n",
    "model.fit(X_train, y_train, validation_data=(X_test, y_test), epochs = 5, batch_size = 600)\n",
    "# 计算模型误差\n",
    "scores = model.evaluate(X_test, y_test, verbose=0)\n",
    "print(\"Large CNN Error: %.2f%%\" % (100 - scores[1] * 100))"
   ]
  },
  {
   "cell_type": "code",
   "execution_count": null,
   "metadata": {},
   "outputs": [],
   "source": []
  }
 ],
 "metadata": {
  "kernelspec": {
   "display_name": "tensorflow",
   "language": "python",
   "name": "tensorflow"
  },
  "language_info": {
   "codemirror_mode": {
    "name": "ipython",
    "version": 3
   },
   "file_extension": ".py",
   "mimetype": "text/x-python",
   "name": "python",
   "nbconvert_exporter": "python",
   "pygments_lexer": "ipython3",
   "version": "3.5.6"
  }
 },
 "nbformat": 4,
 "nbformat_minor": 2
}
