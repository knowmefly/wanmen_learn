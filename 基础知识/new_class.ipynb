{
 "cells": [
  {
   "cell_type": "code",
   "execution_count": 1,
   "metadata": {
    "scrolled": true
   },
   "outputs": [
    {
     "name": "stdout",
     "output_type": "stream",
     "text": [
      "jfahkjhfkasjhf\n"
     ]
    }
   ],
   "source": [
    "print(\"jfahkjhfkasjhf\")"
   ]
  },
  {
   "cell_type": "code",
   "execution_count": 5,
   "metadata": {},
   "outputs": [],
   "source": [
    "import graphviz"
   ]
  },
  {
   "cell_type": "code",
   "execution_count": 19,
   "metadata": {},
   "outputs": [
    {
     "name": "stdout",
     "output_type": "stream",
     "text": [
      "A+B = [5 5 3]\n",
      "A-B = [-3 -1  3]\n",
      "14\n"
     ]
    }
   ],
   "source": [
    "import numpy as np\n",
    "tmp = [1,2,3]\n",
    "a = np.array([1,2,3])\n",
    "b = np.array([4,3,0])\n",
    "print('A+B =',np.add(a,b))\n",
    "print('A-B =',np.subtract(a,b))\n",
    "print(a@a)"
   ]
  },
  {
   "cell_type": "code",
   "execution_count": 10,
   "metadata": {},
   "outputs": [
    {
     "name": "stdout",
     "output_type": "stream",
     "text": [
      "[1 4 9]\n"
     ]
    }
   ],
   "source": [
    "A = np.array([1,2,3])\n",
    "print(np.multiply(A,A))"
   ]
  },
  {
   "cell_type": "code",
   "execution_count": 17,
   "metadata": {},
   "outputs": [
    {
     "name": "stdout",
     "output_type": "stream",
     "text": [
      "dot [[14 21 28 38]\n",
      " [28 42 56 76]]\n",
      "[[14 21 28 38]\n",
      " [28 42 56 76]]\n"
     ]
    }
   ],
   "source": [
    "c = np.array([[1,2,3],\n",
    "            [2,4,6]])\n",
    "d = np.array([[1,1,1,4],\n",
    "            [2,4,6,8],\n",
    "             [3,4,5,6]])\n",
    "print('dot',np.dot(c,d))\n",
    "print(np.matmul(c,d))\n"
   ]
  },
  {
   "cell_type": "markdown",
   "metadata": {},
   "source": [
    "#  你好啊\n",
    "##\n",
    "##\n",
    "###\n"
   ]
  },
  {
   "cell_type": "markdown",
   "metadata": {},
   "source": [
    "** 黑体 **\n",
    "\n",
    "1. jkdaj\n",
    "2. 几个重点\n",
    "1. diyige\n",
    "    * yige\n",
    "    * liangeg\n",
    "![dasdas](http://img62.ddimg.cn/2018/10/23/2018102317502374026.jpg)\n",
    "<img src='http://img62.ddimg.cn/2018/10/23/2018102317502374026.jpg' , width=100>"
   ]
  },
  {
   "cell_type": "markdown",
   "metadata": {},
   "source": [
    "$\\pi$\n",
    "$\\sum_{i=1}^{i=n}$"
   ]
  },
  {
   "cell_type": "markdown",
   "metadata": {},
   "source": [
    "$e {i\\pi}+1"
   ]
  },
  {
   "cell_type": "code",
   "execution_count": null,
   "metadata": {},
   "outputs": [],
   "source": [
    "import tensorflow as tf\n"
   ]
  },
  {
   "cell_type": "markdown",
   "metadata": {},
   "source": [
    "插入表格\n",
    "\n",
    "| diyilan | 2 | 3 |\n",
    "|:----|:-----:|:----|\n",
    "| das | das | fa |\n",
    "|2452345432534 | 4523452345 | 35234523 |"
   ]
  },
  {
   "cell_type": "code",
   "execution_count": null,
   "metadata": {},
   "outputs": [],
   "source": []
  },
  {
   "cell_type": "code",
   "execution_count": 6,
   "metadata": {},
   "outputs": [
    {
     "name": "stdout",
     "output_type": "stream",
     "text": [
      "1*1=1 \n",
      "1*2=2  2*2=4 \n",
      "1*3=3  2*3=6  3*3=9 \n",
      "1*4=4  2*4=8  3*4=12 4*4=16\n",
      "1*5=5  2*5=10 3*5=15 4*5=20 5*5=25\n",
      "1*6=6  2*6=12 3*6=18 4*6=24 5*6=30 6*6=36\n",
      "1*7=7  2*7=14 3*7=21 4*7=28 5*7=35 6*7=42 7*7=49\n",
      "1*8=8  2*8=16 3*8=24 4*8=32 5*8=40 6*8=48 7*8=56 8*8=64\n",
      "1*9=9  2*9=18 3*9=27 4*9=36 5*9=45 6*9=54 7*9=63 8*9=72 9*9=81\n"
     ]
    }
   ],
   "source": [
    "print('\\n'.join([' '.join(['%s*%s=%-2s' % (y, x, x*y) for y in range(1, x+1)]) for x in range(1, 10)]))"
   ]
  },
  {
   "cell_type": "code",
   "execution_count": 7,
   "metadata": {},
   "outputs": [
    {
     "data": {
      "text/plain": [
       "1.0"
      ]
     },
     "execution_count": 7,
     "metadata": {},
     "output_type": "execute_result"
    }
   ],
   "source": [
    "4/4"
   ]
  },
  {
   "cell_type": "code",
   "execution_count": 5,
   "metadata": {},
   "outputs": [
    {
     "data": {
      "text/plain": [
       "'dasdas\\ndasdas\\ndasdsa'"
      ]
     },
     "execution_count": 5,
     "metadata": {},
     "output_type": "execute_result"
    }
   ],
   "source": [
    "\"\"\"dasdas\n",
    "dasdas\n",
    "dasdsa\"\"\""
   ]
  },
  {
   "cell_type": "code",
   "execution_count": 11,
   "metadata": {},
   "outputs": [
    {
     "data": {
      "text/plain": [
       "int"
      ]
     },
     "execution_count": 11,
     "metadata": {},
     "output_type": "execute_result"
    }
   ],
   "source": [
    "type(1)"
   ]
  },
  {
   "cell_type": "code",
   "execution_count": 13,
   "metadata": {},
   "outputs": [
    {
     "data": {
      "text/plain": [
       "(123, 456, 789)"
      ]
     },
     "execution_count": 13,
     "metadata": {},
     "output_type": "execute_result"
    }
   ],
   "source": [
    "123,456,789"
   ]
  },
  {
   "cell_type": "code",
   "execution_count": null,
   "metadata": {},
   "outputs": [],
   "source": []
  },
  {
   "cell_type": "code",
   "execution_count": 16,
   "metadata": {},
   "outputs": [],
   "source": [
    "?type"
   ]
  }
 ],
 "metadata": {
  "kernelspec": {
   "display_name": "Python 3",
   "language": "python",
   "name": "python3"
  },
  "language_info": {
   "codemirror_mode": {
    "name": "ipython",
    "version": 3
   },
   "file_extension": ".py",
   "mimetype": "text/x-python",
   "name": "python",
   "nbconvert_exporter": "python",
   "pygments_lexer": "ipython3",
   "version": "3.6.5"
  }
 },
 "nbformat": 4,
 "nbformat_minor": 2
}
