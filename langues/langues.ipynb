{
 "cells": [
  {
   "cell_type": "code",
   "execution_count": 1,
   "metadata": {},
   "outputs": [],
   "source": [
    "import jieba\n",
    "import re\n",
    "import copy\n",
    "\n",
    "from sklearn.preprocessing import LabelEncoder\n",
    "import numpy as np\n",
    "from collections import OrderedDict"
   ]
  },
  {
   "cell_type": "code",
   "execution_count": 6,
   "metadata": {},
   "outputs": [
    {
     "name": "stdout",
     "output_type": "stream",
     "text": [
      "《红楼梦》曹雪芹\n",
      "\n",
      "\n",
      "\n",
      "严正声明：本书为丫丫小说网(www.shuyaya.com)的用户上传至其在本站的存储空间，本站只提供TXT全集电子书存储服务以及免费下载服务，以下作品内容之版权与本站无任何关系。\n",
      "\n",
      "在线阅读：http://www.shuyaya.com/read/2034/\n",
      "\n",
      "--------------------------------------------------\n",
      "\n",
      "\n",
      "\n",
      "第一回  甄士隐梦幻识通灵　贾雨村风尘怀闺秀\n",
      "\n",
      "\n",
      "\n",
      "    \t\t\n",
      "\n",
      "\n",
      "\n",
      "    此开卷第一回也．作者自云：因曾历过一番梦幻之后，故将真事隐去，而借\"通灵\"之说，撰此《石头记》一书也．故曰\"甄士隐\"云云．但书中所记何事何人？自又云：“今风尘碌碌，一事无成，忽念及当日所有之女子，一一细考较去，觉其行止见识，皆出于我之上．何我堂堂须眉，诚不若彼裙钗哉？实愧则有余，悔又无益之大无可如何之日也！当此，则自欲将已往所赖天恩祖德，锦衣纨绔之时，饫甘餍肥之日，背父兄教育之恩，负师友规谈之德，以至今日一技无成，半生潦倒之罪，编述一集，以告天下人：我之罪固不免，然闺阁中本自历历有人，万不可因我之不肖，自护己短，一并使其泯灭也．虽今日之茅椽蓬牖，瓦灶绳床，其晨夕风露，阶柳庭花，亦未有妨我之襟怀笔墨者．虽我未学，下笔无文，又何妨用假语村言，敷演出一段故事来，亦可使闺阁昭传，复可悦世之目，破人愁闷，不亦宜乎？\"故曰\"贾雨村\"云云．\n",
      "\n"
     ]
    }
   ],
   "source": [
    "with open('data/hongloumeng.txt') as f:\n",
    "    i = 0\n",
    "    for line in f:\n",
    "        print line\n",
    "        i += 1\n",
    "        if i >10:\n",
    "            break"
   ]
  },
  {
   "cell_type": "markdown",
   "metadata": {},
   "source": [
    "## 提取句子"
   ]
  },
  {
   "cell_type": "code",
   "execution_count": 9,
   "metadata": {},
   "outputs": [],
   "source": [
    "def cut_sentence(text):\n",
    "    text = (text).decode('utf-8')\n",
    "    start = 0\n",
    "    i = 0\n",
    "    sentences = []\n",
    "    punt_list = '.!?~． 。！？～\\n'.decode('utf-8')\n",
    "    for word in text:\n",
    "        if word in punt_list and token not in punt_list:\n",
    "            sentences.append(text[start:i+1])\n",
    "            start = i+1\n",
    "            i +=1\n",
    "        else:\n",
    "            i +=1\n",
    "            token = list(text[start:i+2]).pop()\n",
    "    if start < len(text):\n",
    "        sentences.append(text[start:])\n",
    "    return sentences"
   ]
  },
  {
   "cell_type": "code",
   "execution_count": 18,
   "metadata": {},
   "outputs": [],
   "source": [
    "f = open('data/hongloumeng.txt', 'r')\n",
    "context = f.read()\n",
    "sentences = cut_sentence(context)\n",
    "f.close()"
   ]
  },
  {
   "cell_type": "code",
   "execution_count": 12,
   "metadata": {},
   "outputs": [
    {
     "name": "stdout",
     "output_type": "stream",
     "text": [
      "《红楼梦》曹雪芹\n",
      "\n",
      "\n",
      "严正声明：本书为丫丫小说网(www.\n",
      "shuyaya.\n",
      "com)的用户上传至其在本站的存储空间，本站只提供TXT全集电子书存储服务以及免费下载服务，以下作品内容之版权与本站无任何关系。\n",
      "\n",
      "在线阅读：http://www.\n",
      "shuyaya.\n",
      "com/read/2034/\n",
      "\n",
      "--------------------------------------------------\n",
      "\n",
      "\n",
      "第一回  \n",
      "甄士隐梦幻识通灵　贾雨村风尘怀闺秀\n",
      "\n",
      "    \n",
      "\t\t\n",
      "\n",
      "    \n",
      "此开卷第一回也．\n",
      "作者自云：因曾历过一番梦幻之后，故将真事隐去，而借\"通灵\"之说，撰此《石头记》一书也．\n",
      "故曰\"甄士隐\"云云．\n",
      "但书中所记何事何人？\n",
      "自又云：“今风尘碌碌，一事无成，忽念及当日所有之女子，一一细考较去，觉其行止见识，皆出于我之上．\n",
      "何我堂堂须眉，诚不若彼裙钗哉？\n",
      "实愧则有余，悔又无益之大无可如何之日也！\n",
      "当此，则自欲将已往所赖天恩祖德，锦衣纨绔之时，饫甘餍肥之日，背父兄教育之恩，负师友规谈之德，以至今日一技无成，半生潦倒之罪，编述一集，以告天下人：我之罪固不免，然闺阁中本自历历有人，万不可因我之不肖，自护己短，一并使其泯灭也．\n",
      "虽今日之茅椽蓬牖，瓦灶绳床，其晨夕风露，阶柳庭花，亦未有妨我之襟怀笔墨者．\n"
     ]
    }
   ],
   "source": [
    "for s in senteces[:20]:\n",
    "    print s"
   ]
  },
  {
   "cell_type": "code",
   "execution_count": 13,
   "metadata": {},
   "outputs": [],
   "source": [
    "filter_re = re.compile(u'[^\\u4E00-\\u9FA5]')"
   ]
  },
  {
   "cell_type": "code",
   "execution_count": 19,
   "metadata": {},
   "outputs": [],
   "source": [
    "f = open('data/cleaned_hongloumeng.txt', 'w')\n",
    "for s in sentences:\n",
    "    cleaned_s = filter_re.sub(r'', s)\n",
    "    if len(cleaned_s):\n",
    "        f.write(cleaned_s.encode('utf-8')+'\\n')\n",
    "f.close()"
   ]
  },
  {
   "cell_type": "markdown",
   "metadata": {},
   "source": [
    "### 语言模型"
   ]
  },
  {
   "cell_type": "code",
   "execution_count": 20,
   "metadata": {},
   "outputs": [],
   "source": [
    "cleaned_sentences = []\n",
    "for s in sentences:\n",
    "    cleaned_s = filter_re.sub(r'', s)\n",
    "    if len(cleaned_s) :\n",
    "        cleaned_sentences.append(cleaned_s)"
   ]
  },
  {
   "cell_type": "code",
   "execution_count": 21,
   "metadata": {},
   "outputs": [
    {
     "data": {
      "text/plain": [
       "[u'\\u7ea2\\u697c\\u68a6\\u66f9\\u96ea\\u82b9',\n",
       " u'\\u4e25\\u6b63\\u58f0\\u660e\\u672c\\u4e66\\u4e3a\\u4e2b\\u4e2b\\u5c0f\\u8bf4\\u7f51',\n",
       " u'\\u7684\\u7528\\u6237\\u4e0a\\u4f20\\u81f3\\u5176\\u5728\\u672c\\u7ad9\\u7684\\u5b58\\u50a8\\u7a7a\\u95f4\\u672c\\u7ad9\\u53ea\\u63d0\\u4f9b\\u5168\\u96c6\\u7535\\u5b50\\u4e66\\u5b58\\u50a8\\u670d\\u52a1\\u4ee5\\u53ca\\u514d\\u8d39\\u4e0b\\u8f7d\\u670d\\u52a1\\u4ee5\\u4e0b\\u4f5c\\u54c1\\u5185\\u5bb9\\u4e4b\\u7248\\u6743\\u4e0e\\u672c\\u7ad9\\u65e0\\u4efb\\u4f55\\u5173\\u7cfb',\n",
       " u'\\u5728\\u7ebf\\u9605\\u8bfb',\n",
       " u'\\u7b2c\\u4e00\\u56de',\n",
       " u'\\u7504\\u58eb\\u9690\\u68a6\\u5e7b\\u8bc6\\u901a\\u7075\\u8d3e\\u96e8\\u6751\\u98ce\\u5c18\\u6000\\u95fa\\u79c0',\n",
       " u'\\u6b64\\u5f00\\u5377\\u7b2c\\u4e00\\u56de\\u4e5f',\n",
       " u'\\u4f5c\\u8005\\u81ea\\u4e91\\u56e0\\u66fe\\u5386\\u8fc7\\u4e00\\u756a\\u68a6\\u5e7b\\u4e4b\\u540e\\u6545\\u5c06\\u771f\\u4e8b\\u9690\\u53bb\\u800c\\u501f\\u901a\\u7075\\u4e4b\\u8bf4\\u64b0\\u6b64\\u77f3\\u5934\\u8bb0\\u4e00\\u4e66\\u4e5f',\n",
       " u'\\u6545\\u66f0\\u7504\\u58eb\\u9690\\u4e91\\u4e91',\n",
       " u'\\u4f46\\u4e66\\u4e2d\\u6240\\u8bb0\\u4f55\\u4e8b\\u4f55\\u4eba']"
      ]
     },
     "execution_count": 21,
     "metadata": {},
     "output_type": "execute_result"
    }
   ],
   "source": []
  },
  {
   "cell_type": "code",
   "execution_count": 23,
   "metadata": {},
   "outputs": [
    {
     "name": "stderr",
     "output_type": "stream",
     "text": [
      "Building prefix dict from the default dictionary ...\n",
      "Dumping model to file cache c:\\users\\mefly\\appdata\\local\\temp\\jieba.cache\n",
      "Loading model cost 2.818 seconds.\n",
      "Prefix dict has been built succesfully.\n"
     ]
    },
    {
     "name": "stdout",
     "output_type": "stream",
     "text": [
      "自\n",
      "又\n",
      "云今\n",
      "风尘碌碌\n",
      "一事无成\n",
      "忽\n",
      "念及\n",
      "当日\n",
      "所有\n",
      "之\n",
      "女子\n",
      "一一\n",
      "细考\n",
      "较\n",
      "去\n",
      "觉\n",
      "其\n",
      "行止\n",
      "见识\n",
      "皆\n",
      "出于\n",
      "我\n",
      "之上\n"
     ]
    }
   ],
   "source": [
    "for s in jieba.cut(\"自又云今风尘碌碌一事无成忽念及当日所有之女子一一细考较去觉其行止见识皆出于我之上\"):\n",
    "    print s"
   ]
  },
  {
   "cell_type": "code",
   "execution_count": 29,
   "metadata": {},
   "outputs": [],
   "source": [
    "cut_sentences = [list(jieba.cut(s)) for s in cleaned_sentences]"
   ]
  },
  {
   "cell_type": "code",
   "execution_count": 25,
   "metadata": {},
   "outputs": [],
   "source": [
    "generate_ngrams = lambda sentence, n : zip(*[sentence[i:] for i in range(n)])"
   ]
  },
  {
   "cell_type": "code",
   "execution_count": 26,
   "metadata": {},
   "outputs": [
    {
     "name": "stdout",
     "output_type": "stream",
     "text": [
      "自 又\n",
      "又 云今\n",
      "云今 风尘碌碌\n",
      "风尘碌碌 一事无成\n",
      "一事无成 忽\n",
      "忽 念及\n",
      "念及 当日\n",
      "当日 所有\n",
      "所有 之\n",
      "之 女子\n",
      "女子 一一\n",
      "一一 细考\n",
      "细考 较\n",
      "较 去\n",
      "去 觉\n",
      "觉 其\n",
      "其 行止\n",
      "行止 见识\n",
      "见识 皆\n",
      "皆 出于\n",
      "出于 我\n",
      "我 之上\n",
      "自\n",
      "又\n",
      "云今\n",
      "风尘碌碌\n",
      "一事无成\n",
      "忽\n",
      "念及\n",
      "当日\n",
      "所有\n",
      "之\n",
      "女子\n",
      "一一\n",
      "细考\n",
      "较\n",
      "去\n",
      "觉\n",
      "其\n",
      "行止\n",
      "见识\n",
      "皆\n",
      "出于\n",
      "我\n",
      "之上\n"
     ]
    }
   ],
   "source": [
    "# test generate_ngrams function\n",
    "for bigram in generate_ngrams(list(jieba.cut(cleaned_sentences[10])), 2):\n",
    "    print bigram[0], bigram[1]\n",
    "for unigram in generate_ngrams(list(jieba.cut(cleaned_sentences[10])), 1):\n",
    "    print unigram[0]"
   ]
  },
  {
   "cell_type": "code",
   "execution_count": 27,
   "metadata": {},
   "outputs": [],
   "source": [
    "# maximum likelihood parameter estimation \n",
    "def ngrams_parameter_estimate(sentences, n):\n",
    "    sentences_copy = copy.deepcopy(sentences)\n",
    "    ngrams_dict = {}\n",
    "    num_ngrams = 0\n",
    "    for words in sentences_copy:\n",
    "        for i in range(n-1):\n",
    "            words.insert(0, '*')\n",
    "        words.append('#')\n",
    "        ngrams = generate_ngrams(words, n)\n",
    "        for ngram in ngrams:\n",
    "            ngrams_dict[ngram] = ngrams_dict.get(ngram, 0.0) + 1.0\n",
    "            num_ngrams += 1\n",
    "    \n",
    "    # normalize\n",
    "    #for ngram in ngrams_dict:\n",
    "        #ngrams_dict[ngram] /= num_ngrams\n",
    "        \n",
    "    return ngrams_dict, num_ngrams"
   ]
  },
  {
   "cell_type": "code",
   "execution_count": 30,
   "metadata": {},
   "outputs": [],
   "source": [
    "unigrams_dict, n_bigrams = ngrams_parameter_estimate(cut_sentences, 1)\n",
    "filtered_unigrams_dict = OrderedDict(sorted([(k, v)  for k, v in unigrams_dict.iteritems() if v >= 10], key = lambda (k, v) : (v, k), reverse=True))"
   ]
  },
  {
   "cell_type": "code",
   "execution_count": 31,
   "metadata": {},
   "outputs": [
    {
     "name": "stdout",
     "output_type": "stream",
     "text": [
      "word: #, frequency: 34412.0\n",
      "word: 了, frequency: 19613.0\n",
      "word: 今儿, frequency: 286.0\n",
      "word: 一刻, frequency: 10.0\n"
     ]
    }
   ],
   "source": [
    "print 'word: %s, frequency: %s' % (filtered_unigrams_dict.keys()[0][0], filtered_unigrams_dict[filtered_unigrams_dict.keys()[0]])\n",
    "print 'word: %s, frequency: %s' % (filtered_unigrams_dict.keys()[1][0], filtered_unigrams_dict[filtered_unigrams_dict.keys()[1]])\n",
    "print 'word: %s, frequency: %s' % (filtered_unigrams_dict.keys()[200][0], filtered_unigrams_dict[filtered_unigrams_dict.keys()[200]])\n",
    "print 'word: %s, frequency: %s' % (filtered_unigrams_dict.keys()[-1][0], filtered_unigrams_dict[filtered_unigrams_dict.keys()[-1]])"
   ]
  },
  {
   "cell_type": "code",
   "execution_count": 34,
   "metadata": {},
   "outputs": [],
   "source": [
    "import matplotlib.pyplot as plt\n",
    "import seaborn as sns\n",
    "\n",
    "%matplotlib inline"
   ]
  },
  {
   "cell_type": "code",
   "execution_count": 35,
   "metadata": {},
   "outputs": [
    {
     "data": {
      "text/plain": [
       "Text(0,0.5,'frequency')"
      ]
     },
     "execution_count": 35,
     "metadata": {},
     "output_type": "execute_result"
    },
    {
     "data": {
      "image/png": "[encoded data removed]",
      "text/plain": [
       "<Figure size 432x288 with 1 Axes>"
      ]
     },
     "metadata": {
      "needs_background": "light"
     },
     "output_type": "display_data"
    }
   ],
   "source": [
    "ax = sns.distplot(np.log10(filtered_unigrams_dict.values()))\n",
    "ax.set_xlabel(r'$\\log(word frequency)$')\n",
    "ax.set_ylabel(r'frequency')"
   ]
  },
  {
   "cell_type": "markdown",
   "metadata": {},
   "source": [
    "## Split Data into Train, Valid, Test"
   ]
  },
  {
   "cell_type": "code",
   "execution_count": 36,
   "metadata": {},
   "outputs": [],
   "source": [
    "n_samples = len(cut_sentences)\n",
    "n_valid = int(n_samples * 0.2)\n",
    "n_test = int(n_samples * 0.3)"
   ]
  },
  {
   "cell_type": "code",
   "execution_count": 37,
   "metadata": {},
   "outputs": [],
   "source": [
    "permutation = np.random.permutation(n_samples)"
   ]
  },
  {
   "cell_type": "code",
   "execution_count": 38,
   "metadata": {},
   "outputs": [],
   "source": [
    "shuffled_sentences = np.array(cut_sentences)[permutation]"
   ]
  },
  {
   "cell_type": "code",
   "execution_count": 39,
   "metadata": {},
   "outputs": [],
   "source": [
    "train = shuffled_sentences[:n_samples-n_test-n_valid]\n",
    "valid = shuffled_sentences[n_samples-n_test-n_valid:n_samples-n_test]\n",
    "test = shuffled_sentences[n_samples-n_test:]"
   ]
  },
  {
   "cell_type": "markdown",
   "metadata": {},
   "source": [
    "### Build Language Model on Train"
   ]
  },
  {
   "cell_type": "code",
   "execution_count": 40,
   "metadata": {},
   "outputs": [],
   "source": [
    "unigram_dict, n_unigrams = ngrams_parameter_estimate(train, 1)\n",
    "bigrams_dict, n_bigrams = ngrams_parameter_estimate(train, 2)\n",
    "trigrams_dict, n_trigrams = ngrams_parameter_estimate(train, 3)"
   ]
  },
  {
   "cell_type": "markdown",
   "metadata": {},
   "source": [
    "### Test Our Uni-, Bi-, Tri-gram Model on Test"
   ]
  },
  {
   "cell_type": "code",
   "execution_count": 41,
   "metadata": {},
   "outputs": [],
   "source": [
    "def calculate_sentence_log_probability(sentence, n, num_grams, ngrams_dict, n_1grams_dict=None):\n",
    "    assert len(ngrams_dict.keys()[0]) == n, n\n",
    "    if n_1grams_dict is None:\n",
    "        assert n == 1\n",
    "    ngrams = generate_ngrams(sentence, n)\n",
    "    log_prob, has_unknown_ngram = 0.0, False\n",
    "    for ngram in ngrams:\n",
    "        if ngram in ngrams_dict:\n",
    "            if n == 1:\n",
    "                log_prob += np.log2(ngrams_dict[ngram]/num_grams)\n",
    "            else:\n",
    "                log_prob += np.log2(ngrams_dict[ngram]/n_1grams_dict[ngram[:n-1]])\n",
    "        else:\n",
    "            has_unknown_ngram = True\n",
    "    return 0.0 if has_unknown_ngram else log_prob"
   ]
  },
  {
   "cell_type": "code",
   "execution_count": 42,
   "metadata": {},
   "outputs": [],
   "source": [
    "def compute_total_words(sentences):\n",
    "    \n",
    "    return np.sum([len(s) for s in sentences])"
   ]
  },
  {
   "cell_type": "code",
   "execution_count": 43,
   "metadata": {},
   "outputs": [],
   "source": [
    "n_words_in_test = compute_total_words(test)"
   ]
  },
  {
   "cell_type": "code",
   "execution_count": 44,
   "metadata": {},
   "outputs": [
    {
     "data": {
      "text/plain": [
       "134443"
      ]
     },
     "execution_count": 44,
     "metadata": {},
     "output_type": "execute_result"
    }
   ],
   "source": [
    "n_words_in_test"
   ]
  },
  {
   "cell_type": "code",
   "execution_count": 45,
   "metadata": {},
   "outputs": [
    {
     "name": "stdout",
     "output_type": "stream",
     "text": [
      "Number of words in test: 134443\n",
      "Perplexity for uni gram language model: 14.9899421316\n",
      "Perplexity for bi gram language model: 1.08565685362\n",
      "Perplexity for tri gram language model: 1.00741697138\n"
     ]
    }
   ],
   "source": [
    "ngrams_list = [unigram_dict, bigrams_dict, trigrams_dict]\n",
    "ngrams_names = ['uni', 'bi', 'tri']\n",
    "print \"Number of words in test: {}\".format(n_words_in_test)\n",
    "for n in range(1, 4):\n",
    "    sum_log_prob = 0.0\n",
    "    for s in test:\n",
    "        if n == 1:\n",
    "            sum_log_prob += calculate_sentence_log_probability(s, n, n_unigrams, ngrams_list[n-1])\n",
    "        else:\n",
    "            sum_log_prob += calculate_sentence_log_probability(s, n, n_unigrams, ngrams_list[n-1], ngrams_list[n-2])\n",
    "    perplexity = 2**(-sum_log_prob/n_words_in_test)\n",
    "    \n",
    "    print \"Perplexity for {} gram language model: {}\".format(ngrams_names[n-1], perplexity)"
   ]
  },
  {
   "cell_type": "code",
   "execution_count": 48,
   "metadata": {},
   "outputs": [
    {
     "name": "stdout",
     "output_type": "stream",
     "text": [
      "Number of words in valid: 90255\n",
      "Perplexity for uni gram language model: 15.3983164967\n",
      "Perplexity for bi gram language model: 1.08717603287\n",
      "Perplexity for tri gram language model: 1.00737080073\n"
     ]
    }
   ],
   "source": [
    "n_words_in_valid = compute_total_words(valid)\n",
    "print \"Number of words in valid: {}\".format(n_words_in_valid)\n",
    "for n in range(1, 4):\n",
    "    sum_log_prob = 0.0\n",
    "    for s in valid:\n",
    "        if n == 1:\n",
    "            sum_log_prob += calculate_sentence_log_probability(s, n, n_unigrams, ngrams_list[n-1])\n",
    "        else:\n",
    "            sum_log_prob += calculate_sentence_log_probability(s, n, n_unigrams, ngrams_list[n-1], ngrams_list[n-2])\n",
    "    perplexity = 2**(-sum_log_prob/n_words_in_valid)\n",
    "    \n",
    "    print \"Perplexity for {} gram language model: {}\".format(ngrams_names[n-1], perplexity)"
   ]
  },
  {
   "cell_type": "markdown",
   "metadata": {},
   "source": [
    "### Linear Interpolation Smoothing"
   ]
  },
  {
   "cell_type": "code",
   "execution_count": 49,
   "metadata": {},
   "outputs": [],
   "source": [
    "lambda_1 = 0.2#lambda for unigram\n",
    "lambda_2 = 0.3#lambda for bigram\n",
    "lambda_3 = 0.5#lambda for trigram"
   ]
  },
  {
   "cell_type": "code",
   "execution_count": 52,
   "metadata": {},
   "outputs": [],
   "source": [
    "def sentence_log_probability_with_linear_interpolation(sentence, num_grams, ngrams_list, lambdas):\n",
    "    ngrams = generate_ngrams(sentence, 3)\n",
    "    log_prob, has_unknown_ngram = 0.0, False\n",
    "    for ngram in ngrams:\n",
    "        if ngram in ngrams_list[2]:\n",
    "            prob = 0.0\n",
    "            for i in range(3):\n",
    "                if i == 0:\n",
    "                    prob += ngrams_list[i][ngram[:i+1]]*lambdas[i]/num_grams\n",
    "                else:\n",
    "                    prob += ngrams_list[i][ngram[:i+1]]*lambdas[i]/ngrams_list[i-1][ngram[:i]]\n",
    "            log_prob += np.log2(prob) if prob > 0.0 else 0.0\n",
    "        else:\n",
    "            has_unknown_ngram = True\n",
    "    return 0.0 if has_unknown_ngram else log_prob"
   ]
  },
  {
   "cell_type": "code",
   "execution_count": 53,
   "metadata": {},
   "outputs": [
    {
     "name": "stdout",
     "output_type": "stream",
     "text": [
      "Number of words in valid: 90255\n",
      "Perplexity for smoothed trigram language model: 1.00830438637\n"
     ]
    }
   ],
   "source": [
    "n_words_in_valid = compute_total_words(valid)\n",
    "lambdas = [lambda_1, lambda_2, lambda_3]\n",
    "print \"Number of words in valid: {}\".format(n_words_in_valid)\n",
    "sum_log_prob = 0.0\n",
    "for s in valid:\n",
    "    sum_log_prob += sentence_log_probability_with_linear_interpolation(s, n_unigrams, ngrams_list, lambdas)\n",
    "perplexity = 2**(-sum_log_prob/n_words_in_valid)\n",
    "    \n",
    "print \"Perplexity for smoothed trigram language model: {}\".format(perplexity)"
   ]
  },
  {
   "cell_type": "code",
   "execution_count": 50,
   "metadata": {},
   "outputs": [],
   "source": [
    "def random_search_lambdas(sentences, n_iter, n_unigrams, ngrams_list, verbose=True):\n",
    "    best_lambda_1, best_lambda_2, best_lambda_3 = None, None, None\n",
    "    best_log_prob = -np.inf\n",
    "    for i in range(n_iter):\n",
    "        lambda_1 = np.random.uniform(0, 1)\n",
    "        lambda_2 = np.random.uniform(0, 1)\n",
    "        lambda_3 = 1.0 - lambda_1 - lambda_2\n",
    "        lambdas = [lambda_1, lambda_2, lambda_3]\n",
    "        sum_log_prob = 0.0\n",
    "        for s in valid:\n",
    "            sum_log_prob += sentence_log_probability_with_linear_interpolation(s, n_unigrams, ngrams_list, lambdas)\n",
    "        if sum_log_prob > best_log_prob:\n",
    "            best_log_prob = sum_log_prob\n",
    "            best_lambda_1, best_lambda_2, best_lambda_3 = tuple(lambdas)\n",
    "        if verbose:\n",
    "            print \"current best log_prob: {}\".format(best_log_prob)\n",
    "            \n",
    "    return [best_lambda_1, best_lambda_2, best_lambda_3]"
   ]
  },
  {
   "cell_type": "code",
   "execution_count": 54,
   "metadata": {},
   "outputs": [
    {
     "name": "stdout",
     "output_type": "stream",
     "text": [
      "current best log_prob: -582.086646696\n",
      "current best log_prob: -582.086646696\n",
      "current best log_prob: -582.086646696\n",
      "current best log_prob: -582.086646696\n",
      "current best log_prob: -582.086646696\n",
      "current best log_prob: -574.619657516\n",
      "current best log_prob: -574.619657516\n",
      "current best log_prob: -574.619657516\n",
      "current best log_prob: -574.619657516\n",
      "current best log_prob: -574.619657516\n"
     ]
    }
   ],
   "source": [
    "best_lambdas = random_search_lambdas(valid, 10, n_unigrams, ngrams_list)"
   ]
  },
  {
   "cell_type": "code",
   "execution_count": 55,
   "metadata": {},
   "outputs": [
    {
     "data": {
      "text/plain": [
       "[0.8863844098841657, 0.8442448614404383, -0.730629271324604]"
      ]
     },
     "execution_count": 55,
     "metadata": {},
     "output_type": "execute_result"
    }
   ],
   "source": [
    "best_lambdas"
   ]
  },
  {
   "cell_type": "code",
   "execution_count": 56,
   "metadata": {},
   "outputs": [
    {
     "name": "stdout",
     "output_type": "stream",
     "text": [
      "Number of words in test: 134443\n",
      "Perplexity for smoothed trigram language model: 1.00433712579\n"
     ]
    }
   ],
   "source": [
    "n_words_in_test = compute_total_words(test)\n",
    "print \"Number of words in test: {}\".format(n_words_in_test)\n",
    "sum_log_prob = 0.0\n",
    "for s in test:\n",
    "    sum_log_prob += sentence_log_probability_with_linear_interpolation(s, n_unigrams, ngrams_list, best_lambdas)\n",
    "perplexity = 2**(-sum_log_prob/n_words_in_test)\n",
    "    \n",
    "print \"Perplexity for smoothed trigram language model: {}\".format(perplexity)"
   ]
  },
  {
   "cell_type": "markdown",
   "metadata": {},
   "source": [
    "# 隐马尔可夫过程"
   ]
  },
  {
   "cell_type": "code",
   "execution_count": 64,
   "metadata": {},
   "outputs": [],
   "source": [
    "from sklearn.preprocessing import LabelEncoder"
   ]
  },
  {
   "cell_type": "code",
   "execution_count": 65,
   "metadata": {},
   "outputs": [],
   "source": [
    "sentence = ['我', '是', '中国人']\n",
    "emission_prob = {\n",
    "    ('N', '我'): 0.01,\n",
    "    ('N', '中国人'): 0.002,\n",
    "    ('V', '是'): 0.05\n",
    "}\n",
    "transition_prob = {\n",
    "    ('*', 'N'): 0.02,\n",
    "    ('*', 'V'): 0.0009,\n",
    "    ('N', 'V'): 0.05,\n",
    "    ('V', 'N'): 0.04\n",
    "}"
   ]
  },
  {
   "cell_type": "code",
   "execution_count": 66,
   "metadata": {},
   "outputs": [],
   "source": [
    "n_taggers = 2\n",
    "tagger_encoder = LabelEncoder()\n",
    "encoded_taggers = tagger_encoder.fit_transform(['N', 'V'])"
   ]
  },
  {
   "cell_type": "code",
   "execution_count": 67,
   "metadata": {},
   "outputs": [
    {
     "data": {
      "text/plain": [
       "array([0, 1], dtype=int64)"
      ]
     },
     "execution_count": 67,
     "metadata": {},
     "output_type": "execute_result"
    }
   ],
   "source": [
    "encoded_taggers"
   ]
  },
  {
   "cell_type": "code",
   "execution_count": 4,
   "metadata": {},
   "outputs": [
    {
     "ename": "NameError",
     "evalue": "name 'np' is not defined",
     "output_type": "error",
     "traceback": [
      "\u001b[1;31m---------------------------------------------------------------------------\u001b[0m",
      "\u001b[1;31mNameError\u001b[0m                                 Traceback (most recent call last)",
      "\u001b[1;32m<ipython-input-4-93af2a5806c9>\u001b[0m in \u001b[0;36m<module>\u001b[1;34m()\u001b[0m\n\u001b[1;32m----> 1\u001b[1;33m \u001b[0mdynamic_table\u001b[0m \u001b[1;33m=\u001b[0m \u001b[0mnp\u001b[0m\u001b[1;33m.\u001b[0m\u001b[0mones\u001b[0m\u001b[1;33m(\u001b[0m\u001b[1;33m[\u001b[0m\u001b[0mn_taggers\u001b[0m\u001b[1;33m,\u001b[0m \u001b[0mlen\u001b[0m\u001b[1;33m(\u001b[0m\u001b[0msentence\u001b[0m\u001b[1;33m)\u001b[0m\u001b[1;33m]\u001b[0m\u001b[1;33m,\u001b[0m \u001b[0mdtype\u001b[0m\u001b[1;33m=\u001b[0m\u001b[0mnp\u001b[0m\u001b[1;33m.\u001b[0m\u001b[0mfloat32\u001b[0m\u001b[1;33m)\u001b[0m\u001b[1;33m*\u001b[0m\u001b[1;33m(\u001b[0m\u001b[1;33m-\u001b[0m\u001b[1;36m1\u001b[0m\u001b[1;33m)\u001b[0m\u001b[1;33m\u001b[0m\u001b[0m\n\u001b[0m\u001b[0;32m      2\u001b[0m \u001b[1;32mfor\u001b[0m \u001b[0mj\u001b[0m \u001b[1;32min\u001b[0m \u001b[0mrange\u001b[0m\u001b[1;33m(\u001b[0m\u001b[0mn_taggers\u001b[0m\u001b[1;33m)\u001b[0m\u001b[1;33m:\u001b[0m\u001b[1;33m\u001b[0m\u001b[0m\n\u001b[0;32m      3\u001b[0m     \u001b[0mtagger_to_tagger\u001b[0m \u001b[1;33m=\u001b[0m \u001b[1;33m(\u001b[0m\u001b[1;34m'*'\u001b[0m\u001b[1;33m,\u001b[0m \u001b[0mtagger_encoder\u001b[0m\u001b[1;33m.\u001b[0m\u001b[0minverse_transform\u001b[0m\u001b[1;33m(\u001b[0m\u001b[0mj\u001b[0m\u001b[1;33m)\u001b[0m\u001b[1;33m)\u001b[0m\u001b[1;33m\u001b[0m\u001b[0m\n\u001b[0;32m      4\u001b[0m     \u001b[0mword_on_tagger\u001b[0m \u001b[1;33m=\u001b[0m \u001b[1;33m(\u001b[0m\u001b[0mtagger_encoder\u001b[0m\u001b[1;33m.\u001b[0m\u001b[0minverse_transform\u001b[0m\u001b[1;33m(\u001b[0m\u001b[0mj\u001b[0m\u001b[1;33m)\u001b[0m\u001b[1;33m,\u001b[0m \u001b[0msentence\u001b[0m\u001b[1;33m[\u001b[0m\u001b[1;36m0\u001b[0m\u001b[1;33m]\u001b[0m\u001b[1;33m)\u001b[0m\u001b[1;33m\u001b[0m\u001b[0m\n\u001b[0;32m      5\u001b[0m     \u001b[0mdynamic_table\u001b[0m\u001b[1;33m[\u001b[0m\u001b[0mj\u001b[0m\u001b[1;33m,\u001b[0m \u001b[1;36m0\u001b[0m\u001b[1;33m]\u001b[0m \u001b[1;33m=\u001b[0m \u001b[0mtransition_prob\u001b[0m\u001b[1;33m.\u001b[0m\u001b[0mget\u001b[0m\u001b[1;33m(\u001b[0m\u001b[0mtagger_to_tagger\u001b[0m\u001b[1;33m,\u001b[0m\u001b[1;36m0.0\u001b[0m\u001b[1;33m)\u001b[0m\u001b[1;33m*\u001b[0m\u001b[0memission_prob\u001b[0m\u001b[1;33m.\u001b[0m\u001b[0mget\u001b[0m\u001b[1;33m(\u001b[0m\u001b[0mword_on_tagger\u001b[0m\u001b[1;33m,\u001b[0m\u001b[1;36m0.0\u001b[0m\u001b[1;33m)\u001b[0m\u001b[1;33m\u001b[0m\u001b[0m\n",
      "\u001b[1;31mNameError\u001b[0m: name 'np' is not defined"
     ]
    }
   ],
   "source": [
    "dynamic_table = np.ones([n_taggers, len(sentence)], dtype=np.float32)*(-1)\n",
    "for j in range(n_taggers):\n",
    "    tagger_to_tagger = ('*', tagger_encoder.inverse_transform(j))\n",
    "    word_on_tagger = (tagger_encoder.inverse_transform(j), sentence[0])\n",
    "    dynamic_table[j, 0] = transition_prob.get(tagger_to_tagger,0.0)*emission_prob.get(word_on_tagger,0.0)\n",
    "for i in range(1, len(sentence)):\n",
    "    for j in range(n_taggers):\n",
    "        word_on_tagger = (tagger_encoder.inverse_transform(j),sentence[i])\n",
    "        max_at_i = 0.0\n",
    "        # loop all states in previous step\n",
    "        for k in range(n_taggers):\n",
    "            tagger_to_tagger = (tagger_encoder.inverse_transform(k),tagger_encoder.inverse_transform(j))\n",
    "            prob_k_j = dynamic_table[k, i-1]*transition_prob.get(tagger_to_tagger,0.0)\n",
    "            if max_at_i < prob_k_j:\n",
    "                max_at_i = prob_k_j\n",
    "        dynamic_table[j, i] = max_at_i\n",
    "        tmp = dynamic_table[j, i]\n",
    "        dynamic_table[j, i] = dynamic_table[j, i]*emission_prob.get(word_on_tagger, 0.0)\n",
    "\n",
    "back_pointer = np.ones((len(sentence, )), dtype=np.int32)*(-1)\n",
    "for i in range(len(sentence) - 1, -1, -1):\n",
    "    max_at_i = 0.0\n",
    "    max_j = 0.0\n",
    "    for j in range(n_taggers):\n",
    "        if dynamic_table[j, i] > max_at_i:\n",
    "            max_at_i = dynamic_table[j, i]\n",
    "            max_j = j\n",
    "            back_pointer[i] = j"
   ]
  },
  {
   "cell_type": "markdown",
   "metadata": {},
   "source": [
    "## Use nltk to build Hidden Markov Model"
   ]
  },
  {
   "cell_type": "code",
   "execution_count": 5,
   "metadata": {},
   "outputs": [],
   "source": [
    "import nltk\n",
    "from nltk.corpus import treebank\n",
    "from nltk.tag import hmm"
   ]
  },
  {
   "cell_type": "code",
   "execution_count": 8,
   "metadata": {},
   "outputs": [],
   "source": [
    "# train_data = treebank.tagged_sents()\n",
    "\n",
    "# print train_data[0]"
   ]
  },
  {
   "cell_type": "code",
   "execution_count": 7,
   "metadata": {},
   "outputs": [
    {
     "ename": "NameError",
     "evalue": "name 'train_data' is not defined",
     "output_type": "error",
     "traceback": [
      "\u001b[1;31m---------------------------------------------------------------------------\u001b[0m",
      "\u001b[1;31mNameError\u001b[0m                                 Traceback (most recent call last)",
      "\u001b[1;32m<ipython-input-7-55ab737e3a71>\u001b[0m in \u001b[0;36m<module>\u001b[1;34m()\u001b[0m\n\u001b[0;32m      1\u001b[0m \u001b[0mtrainer\u001b[0m \u001b[1;33m=\u001b[0m \u001b[0mhmm\u001b[0m\u001b[1;33m.\u001b[0m\u001b[0mHiddenMarkovModelTrainer\u001b[0m\u001b[1;33m(\u001b[0m\u001b[1;33m)\u001b[0m\u001b[1;33m\u001b[0m\u001b[0m\n\u001b[1;32m----> 2\u001b[1;33m \u001b[0mtagger\u001b[0m \u001b[1;33m=\u001b[0m \u001b[0mtrainer\u001b[0m\u001b[1;33m.\u001b[0m\u001b[0mtrain_supervised\u001b[0m\u001b[1;33m(\u001b[0m\u001b[0mtrain_data\u001b[0m\u001b[1;33m)\u001b[0m\u001b[1;33m\u001b[0m\u001b[0m\n\u001b[0m",
      "\u001b[1;31mNameError\u001b[0m: name 'train_data' is not defined"
     ]
    }
   ],
   "source": [
    "trainer = hmm.HiddenMarkovModelTrainer()\n",
    "tagger = trainer.train_supervised(train_data)"
   ]
  },
  {
   "cell_type": "code",
   "execution_count": null,
   "metadata": {},
   "outputs": [],
   "source": []
  }
 ],
 "metadata": {
  "kernelspec": {
   "display_name": "py27know",
   "language": "python",
   "name": "py27know"
  },
  "language_info": {
   "codemirror_mode": {
    "name": "ipython",
    "version": 2
   },
   "file_extension": ".py",
   "mimetype": "text/x-python",
   "name": "python",
   "nbconvert_exporter": "python",
   "pygments_lexer": "ipython2",
   "version": "2.7.15"
  }
 },
 "nbformat": 4,
 "nbformat_minor": 2
}
